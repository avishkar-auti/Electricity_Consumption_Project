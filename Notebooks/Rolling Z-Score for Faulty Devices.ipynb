{
 "cells": [
  {
   "cell_type": "code",
   "execution_count": 12,
   "id": "8a031ff1",
   "metadata": {},
   "outputs": [],
   "source": [
    "import pandas as pd\n",
    "import numpy as np\n",
    "import warnings\n",
    "warnings.filterwarnings('ignore')"
   ]
  },
  {
   "cell_type": "code",
   "execution_count": 13,
   "id": "c9b70942",
   "metadata": {},
   "outputs": [
    {
     "data": {
      "text/html": [
       "<div>\n",
       "<style scoped>\n",
       "    .dataframe tbody tr th:only-of-type {\n",
       "        vertical-align: middle;\n",
       "    }\n",
       "\n",
       "    .dataframe tbody tr th {\n",
       "        vertical-align: top;\n",
       "    }\n",
       "\n",
       "    .dataframe thead th {\n",
       "        text-align: right;\n",
       "    }\n",
       "</style>\n",
       "<table border=\"1\" class=\"dataframe\">\n",
       "  <thead>\n",
       "    <tr style=\"text-align: right;\">\n",
       "      <th></th>\n",
       "      <th>Date</th>\n",
       "      <th>Fridge</th>\n",
       "      <th>AC</th>\n",
       "      <th>Voltage</th>\n",
       "      <th>Kitchen Appliances</th>\n",
       "      <th>Other Appliances</th>\n",
       "      <th>Sub_metering_3</th>\n",
       "      <th>month</th>\n",
       "      <th>year</th>\n",
       "      <th>Total_Consumption</th>\n",
       "      <th>day</th>\n",
       "      <th>Washing Machine</th>\n",
       "      <th>kap_zscore</th>\n",
       "      <th>fridge_zscore</th>\n",
       "      <th>ac_zscore</th>\n",
       "      <th>oap_zscore</th>\n",
       "      <th>wm_zscore</th>\n",
       "    </tr>\n",
       "  </thead>\n",
       "  <tbody>\n",
       "    <tr>\n",
       "      <th>0</th>\n",
       "      <td>2021-01-01</td>\n",
       "      <td>1224.252</td>\n",
       "      <td>0.0</td>\n",
       "      <td>349294.64</td>\n",
       "      <td>3869.148</td>\n",
       "      <td>327.0</td>\n",
       "      <td>3558.0</td>\n",
       "      <td>1</td>\n",
       "      <td>2020</td>\n",
       "      <td>7.7</td>\n",
       "      <td>1</td>\n",
       "      <td>2304.0</td>\n",
       "      <td>NaN</td>\n",
       "      <td>NaN</td>\n",
       "      <td>NaN</td>\n",
       "      <td>NaN</td>\n",
       "      <td>NaN</td>\n",
       "    </tr>\n",
       "    <tr>\n",
       "      <th>1</th>\n",
       "      <td>2021-01-02</td>\n",
       "      <td>1693.778</td>\n",
       "      <td>0.0</td>\n",
       "      <td>350829.71</td>\n",
       "      <td>5301.422</td>\n",
       "      <td>367.0</td>\n",
       "      <td>14623.0</td>\n",
       "      <td>1</td>\n",
       "      <td>2020</td>\n",
       "      <td>8.5</td>\n",
       "      <td>2</td>\n",
       "      <td>1111.0</td>\n",
       "      <td>NaN</td>\n",
       "      <td>NaN</td>\n",
       "      <td>NaN</td>\n",
       "      <td>NaN</td>\n",
       "      <td>NaN</td>\n",
       "    </tr>\n",
       "  </tbody>\n",
       "</table>\n",
       "</div>"
      ],
      "text/plain": [
       "        Date    Fridge   AC    Voltage  Kitchen Appliances  Other Appliances  \\\n",
       "0 2021-01-01  1224.252  0.0  349294.64            3869.148             327.0   \n",
       "1 2021-01-02  1693.778  0.0  350829.71            5301.422             367.0   \n",
       "\n",
       "   Sub_metering_3  month  year  Total_Consumption  day  Washing Machine  \\\n",
       "0          3558.0      1  2020                7.7    1           2304.0   \n",
       "1         14623.0      1  2020                8.5    2           1111.0   \n",
       "\n",
       "   kap_zscore  fridge_zscore  ac_zscore  oap_zscore  wm_zscore  \n",
       "0         NaN            NaN        NaN         NaN        NaN  \n",
       "1         NaN            NaN        NaN         NaN        NaN  "
      ]
     },
     "execution_count": 13,
     "metadata": {},
     "output_type": "execute_result"
    }
   ],
   "source": [
    "df1 = pd.read_csv(r'C:\\Users\\AJAY\\Desktop\\Optimizing-Household-Electricity-through-Machine-Learning-main\\Datasets\\electricity_appliance_wise_data.csv')\n",
    "df1['Date'] = pd.to_datetime(df1['Date'])\n",
    "df1 = df1[df1['Date'].dt.year == 2021]\n",
    "df1.reset_index(drop=True, inplace=True)\n",
    "df1.head(2)"
   ]
  },
  {
   "cell_type": "code",
   "execution_count": 14,
   "id": "f1efe907",
   "metadata": {},
   "outputs": [],
   "source": [
    "def zscore(x, window):\n",
    "    r = x.rolling(window=window)\n",
    "    m = r.mean().shift(1)\n",
    "    s = r.std(ddof=0).shift(1)\n",
    "    z = (x-m)/s\n",
    "    return z"
   ]
  },
  {
   "cell_type": "code",
   "execution_count": 15,
   "id": "1eddc0c2",
   "metadata": {},
   "outputs": [],
   "source": [
    "df1['kap_zscore'] = zscore(df1['Kitchen Appliances'], 30)\n",
    "df1['fridge_zscore'] = zscore(df1['Fridge'], 30)\n",
    "df1['ac_zscore'] = zscore(df1['AC'], 30)\n",
    "df1['oap_zscore'] = zscore(df1['Other Appliances'], 30)\n",
    "df1['wm_zscore'] = zscore(df1['Washing Machine'], 3)"
   ]
  },
  {
   "cell_type": "code",
   "execution_count": 16,
   "id": "9ba05d4f",
   "metadata": {
    "scrolled": true
   },
   "outputs": [
    {
     "data": {
      "text/html": [
       "<div>\n",
       "<style scoped>\n",
       "    .dataframe tbody tr th:only-of-type {\n",
       "        vertical-align: middle;\n",
       "    }\n",
       "\n",
       "    .dataframe tbody tr th {\n",
       "        vertical-align: top;\n",
       "    }\n",
       "\n",
       "    .dataframe thead th {\n",
       "        text-align: right;\n",
       "    }\n",
       "</style>\n",
       "<table border=\"1\" class=\"dataframe\">\n",
       "  <thead>\n",
       "    <tr style=\"text-align: right;\">\n",
       "      <th></th>\n",
       "      <th>Date</th>\n",
       "      <th>Fridge</th>\n",
       "      <th>AC</th>\n",
       "      <th>Voltage</th>\n",
       "      <th>Kitchen Appliances</th>\n",
       "      <th>Other Appliances</th>\n",
       "      <th>Sub_metering_3</th>\n",
       "      <th>month</th>\n",
       "      <th>year</th>\n",
       "      <th>Total_Consumption</th>\n",
       "      <th>day</th>\n",
       "      <th>Washing Machine</th>\n",
       "      <th>kap_zscore</th>\n",
       "      <th>fridge_zscore</th>\n",
       "      <th>ac_zscore</th>\n",
       "      <th>oap_zscore</th>\n",
       "      <th>wm_zscore</th>\n",
       "    </tr>\n",
       "  </thead>\n",
       "  <tbody>\n",
       "  </tbody>\n",
       "</table>\n",
       "</div>"
      ],
      "text/plain": [
       "Empty DataFrame\n",
       "Columns: [Date, Fridge, AC, Voltage, Kitchen Appliances, Other Appliances, Sub_metering_3, month, year, Total_Consumption, day, Washing Machine, kap_zscore, fridge_zscore, ac_zscore, oap_zscore, wm_zscore]\n",
       "Index: []"
      ]
     },
     "execution_count": 16,
     "metadata": {},
     "output_type": "execute_result"
    }
   ],
   "source": [
    "df1[df1['kap_zscore'] > 5]"
   ]
  },
  {
   "cell_type": "code",
   "execution_count": 17,
   "id": "28e7d2ef",
   "metadata": {
    "scrolled": true
   },
   "outputs": [
    {
     "data": {
      "text/html": [
       "<div>\n",
       "<style scoped>\n",
       "    .dataframe tbody tr th:only-of-type {\n",
       "        vertical-align: middle;\n",
       "    }\n",
       "\n",
       "    .dataframe tbody tr th {\n",
       "        vertical-align: top;\n",
       "    }\n",
       "\n",
       "    .dataframe thead th {\n",
       "        text-align: right;\n",
       "    }\n",
       "</style>\n",
       "<table border=\"1\" class=\"dataframe\">\n",
       "  <thead>\n",
       "    <tr style=\"text-align: right;\">\n",
       "      <th></th>\n",
       "      <th>Date</th>\n",
       "      <th>Fridge</th>\n",
       "      <th>AC</th>\n",
       "      <th>Voltage</th>\n",
       "      <th>Kitchen Appliances</th>\n",
       "      <th>Other Appliances</th>\n",
       "      <th>Sub_metering_3</th>\n",
       "      <th>month</th>\n",
       "      <th>year</th>\n",
       "      <th>Total_Consumption</th>\n",
       "      <th>day</th>\n",
       "      <th>Washing Machine</th>\n",
       "      <th>kap_zscore</th>\n",
       "      <th>fridge_zscore</th>\n",
       "      <th>ac_zscore</th>\n",
       "      <th>oap_zscore</th>\n",
       "      <th>wm_zscore</th>\n",
       "    </tr>\n",
       "  </thead>\n",
       "  <tbody>\n",
       "  </tbody>\n",
       "</table>\n",
       "</div>"
      ],
      "text/plain": [
       "Empty DataFrame\n",
       "Columns: [Date, Fridge, AC, Voltage, Kitchen Appliances, Other Appliances, Sub_metering_3, month, year, Total_Consumption, day, Washing Machine, kap_zscore, fridge_zscore, ac_zscore, oap_zscore, wm_zscore]\n",
       "Index: []"
      ]
     },
     "execution_count": 17,
     "metadata": {},
     "output_type": "execute_result"
    }
   ],
   "source": [
    "df1[df1['fridge_zscore'] > 5]"
   ]
  },
  {
   "cell_type": "code",
   "execution_count": 18,
   "id": "4c1776bb",
   "metadata": {
    "scrolled": true
   },
   "outputs": [
    {
     "data": {
      "text/html": [
       "<div>\n",
       "<style scoped>\n",
       "    .dataframe tbody tr th:only-of-type {\n",
       "        vertical-align: middle;\n",
       "    }\n",
       "\n",
       "    .dataframe tbody tr th {\n",
       "        vertical-align: top;\n",
       "    }\n",
       "\n",
       "    .dataframe thead th {\n",
       "        text-align: right;\n",
       "    }\n",
       "</style>\n",
       "<table border=\"1\" class=\"dataframe\">\n",
       "  <thead>\n",
       "    <tr style=\"text-align: right;\">\n",
       "      <th></th>\n",
       "      <th>Date</th>\n",
       "      <th>Fridge</th>\n",
       "      <th>AC</th>\n",
       "      <th>Voltage</th>\n",
       "      <th>Kitchen Appliances</th>\n",
       "      <th>Other Appliances</th>\n",
       "      <th>Sub_metering_3</th>\n",
       "      <th>month</th>\n",
       "      <th>year</th>\n",
       "      <th>Total_Consumption</th>\n",
       "      <th>day</th>\n",
       "      <th>Washing Machine</th>\n",
       "      <th>kap_zscore</th>\n",
       "      <th>fridge_zscore</th>\n",
       "      <th>ac_zscore</th>\n",
       "      <th>oap_zscore</th>\n",
       "      <th>wm_zscore</th>\n",
       "    </tr>\n",
       "  </thead>\n",
       "  <tbody>\n",
       "    <tr>\n",
       "      <th>56</th>\n",
       "      <td>2021-03-01</td>\n",
       "      <td>2083.454</td>\n",
       "      <td>2874.15</td>\n",
       "      <td>350992.12</td>\n",
       "      <td>6620.146</td>\n",
       "      <td>4880.25</td>\n",
       "      <td>10074.0</td>\n",
       "      <td>3</td>\n",
       "      <td>2020</td>\n",
       "      <td>60.9</td>\n",
       "      <td>1</td>\n",
       "      <td>3842.0</td>\n",
       "      <td>0.673283</td>\n",
       "      <td>0.663654</td>\n",
       "      <td>inf</td>\n",
       "      <td>1.216211</td>\n",
       "      <td>1.412839</td>\n",
       "    </tr>\n",
       "    <tr>\n",
       "      <th>57</th>\n",
       "      <td>2021-03-02</td>\n",
       "      <td>2903.014</td>\n",
       "      <td>2755.38</td>\n",
       "      <td>349038.83</td>\n",
       "      <td>9149.786</td>\n",
       "      <td>8457.82</td>\n",
       "      <td>21130.0</td>\n",
       "      <td>3</td>\n",
       "      <td>2020</td>\n",
       "      <td>76.5</td>\n",
       "      <td>2</td>\n",
       "      <td>2234.0</td>\n",
       "      <td>2.160376</td>\n",
       "      <td>2.180478</td>\n",
       "      <td>5.154957</td>\n",
       "      <td>2.557031</td>\n",
       "      <td>-0.164592</td>\n",
       "    </tr>\n",
       "  </tbody>\n",
       "</table>\n",
       "</div>"
      ],
      "text/plain": [
       "         Date    Fridge       AC    Voltage  Kitchen Appliances  \\\n",
       "56 2021-03-01  2083.454  2874.15  350992.12            6620.146   \n",
       "57 2021-03-02  2903.014  2755.38  349038.83            9149.786   \n",
       "\n",
       "    Other Appliances  Sub_metering_3  month  year  Total_Consumption  day  \\\n",
       "56           4880.25         10074.0      3  2020               60.9    1   \n",
       "57           8457.82         21130.0      3  2020               76.5    2   \n",
       "\n",
       "    Washing Machine  kap_zscore  fridge_zscore  ac_zscore  oap_zscore  \\\n",
       "56           3842.0    0.673283       0.663654        inf    1.216211   \n",
       "57           2234.0    2.160376       2.180478   5.154957    2.557031   \n",
       "\n",
       "    wm_zscore  \n",
       "56   1.412839  \n",
       "57  -0.164592  "
      ]
     },
     "execution_count": 18,
     "metadata": {},
     "output_type": "execute_result"
    }
   ],
   "source": [
    "df1[df1['ac_zscore'] > 5]"
   ]
  },
  {
   "cell_type": "code",
   "execution_count": 19,
   "id": "9fdcee87",
   "metadata": {
    "scrolled": true
   },
   "outputs": [
    {
     "data": {
      "text/html": [
       "<div>\n",
       "<style scoped>\n",
       "    .dataframe tbody tr th:only-of-type {\n",
       "        vertical-align: middle;\n",
       "    }\n",
       "\n",
       "    .dataframe tbody tr th {\n",
       "        vertical-align: top;\n",
       "    }\n",
       "\n",
       "    .dataframe thead th {\n",
       "        text-align: right;\n",
       "    }\n",
       "</style>\n",
       "<table border=\"1\" class=\"dataframe\">\n",
       "  <thead>\n",
       "    <tr style=\"text-align: right;\">\n",
       "      <th></th>\n",
       "      <th>Date</th>\n",
       "      <th>Fridge</th>\n",
       "      <th>AC</th>\n",
       "      <th>Voltage</th>\n",
       "      <th>Kitchen Appliances</th>\n",
       "      <th>Other Appliances</th>\n",
       "      <th>Sub_metering_3</th>\n",
       "      <th>month</th>\n",
       "      <th>year</th>\n",
       "      <th>Total_Consumption</th>\n",
       "      <th>day</th>\n",
       "      <th>Washing Machine</th>\n",
       "      <th>kap_zscore</th>\n",
       "      <th>fridge_zscore</th>\n",
       "      <th>ac_zscore</th>\n",
       "      <th>oap_zscore</th>\n",
       "      <th>wm_zscore</th>\n",
       "    </tr>\n",
       "  </thead>\n",
       "  <tbody>\n",
       "  </tbody>\n",
       "</table>\n",
       "</div>"
      ],
      "text/plain": [
       "Empty DataFrame\n",
       "Columns: [Date, Fridge, AC, Voltage, Kitchen Appliances, Other Appliances, Sub_metering_3, month, year, Total_Consumption, day, Washing Machine, kap_zscore, fridge_zscore, ac_zscore, oap_zscore, wm_zscore]\n",
       "Index: []"
      ]
     },
     "execution_count": 19,
     "metadata": {},
     "output_type": "execute_result"
    }
   ],
   "source": [
    "df1[df1['oap_zscore'] > 5]"
   ]
  },
  {
   "cell_type": "code",
   "execution_count": 20,
   "id": "85239513",
   "metadata": {
    "scrolled": true
   },
   "outputs": [
    {
     "data": {
      "text/html": [
       "<div>\n",
       "<style scoped>\n",
       "    .dataframe tbody tr th:only-of-type {\n",
       "        vertical-align: middle;\n",
       "    }\n",
       "\n",
       "    .dataframe tbody tr th {\n",
       "        vertical-align: top;\n",
       "    }\n",
       "\n",
       "    .dataframe thead th {\n",
       "        text-align: right;\n",
       "    }\n",
       "</style>\n",
       "<table border=\"1\" class=\"dataframe\">\n",
       "  <thead>\n",
       "    <tr style=\"text-align: right;\">\n",
       "      <th></th>\n",
       "      <th>Date</th>\n",
       "      <th>Fridge</th>\n",
       "      <th>AC</th>\n",
       "      <th>Voltage</th>\n",
       "      <th>Kitchen Appliances</th>\n",
       "      <th>Other Appliances</th>\n",
       "      <th>Sub_metering_3</th>\n",
       "      <th>month</th>\n",
       "      <th>year</th>\n",
       "      <th>Total_Consumption</th>\n",
       "      <th>day</th>\n",
       "      <th>Washing Machine</th>\n",
       "      <th>kap_zscore</th>\n",
       "      <th>fridge_zscore</th>\n",
       "      <th>ac_zscore</th>\n",
       "      <th>oap_zscore</th>\n",
       "      <th>wm_zscore</th>\n",
       "    </tr>\n",
       "  </thead>\n",
       "  <tbody>\n",
       "    <tr>\n",
       "      <th>8</th>\n",
       "      <td>2021-01-09</td>\n",
       "      <td>1593.318</td>\n",
       "      <td>0.00</td>\n",
       "      <td>347418.49</td>\n",
       "      <td>5162.682</td>\n",
       "      <td>1194.00</td>\n",
       "      <td>13990.0</td>\n",
       "      <td>1</td>\n",
       "      <td>2020</td>\n",
       "      <td>9.9</td>\n",
       "      <td>9</td>\n",
       "      <td>1947.0</td>\n",
       "      <td>NaN</td>\n",
       "      <td>NaN</td>\n",
       "      <td>NaN</td>\n",
       "      <td>NaN</td>\n",
       "      <td>3.046567</td>\n",
       "    </tr>\n",
       "    <tr>\n",
       "      <th>27</th>\n",
       "      <td>2021-01-30</td>\n",
       "      <td>2842.728</td>\n",
       "      <td>0.00</td>\n",
       "      <td>348594.33</td>\n",
       "      <td>9119.672</td>\n",
       "      <td>7544.00</td>\n",
       "      <td>17891.0</td>\n",
       "      <td>1</td>\n",
       "      <td>2020</td>\n",
       "      <td>22.7</td>\n",
       "      <td>30</td>\n",
       "      <td>3240.0</td>\n",
       "      <td>NaN</td>\n",
       "      <td>NaN</td>\n",
       "      <td>NaN</td>\n",
       "      <td>NaN</td>\n",
       "      <td>5.342202</td>\n",
       "    </tr>\n",
       "    <tr>\n",
       "      <th>33</th>\n",
       "      <td>2021-02-05</td>\n",
       "      <td>2187.910</td>\n",
       "      <td>0.00</td>\n",
       "      <td>346159.08</td>\n",
       "      <td>7060.490</td>\n",
       "      <td>7966.00</td>\n",
       "      <td>14454.0</td>\n",
       "      <td>2</td>\n",
       "      <td>2020</td>\n",
       "      <td>19.1</td>\n",
       "      <td>5</td>\n",
       "      <td>1858.0</td>\n",
       "      <td>0.727257</td>\n",
       "      <td>0.653262</td>\n",
       "      <td>NaN</td>\n",
       "      <td>3.378153</td>\n",
       "      <td>inf</td>\n",
       "    </tr>\n",
       "    <tr>\n",
       "      <th>38</th>\n",
       "      <td>2021-02-10</td>\n",
       "      <td>1923.254</td>\n",
       "      <td>0.00</td>\n",
       "      <td>346612.98</td>\n",
       "      <td>6118.146</td>\n",
       "      <td>741.00</td>\n",
       "      <td>13532.0</td>\n",
       "      <td>2</td>\n",
       "      <td>2020</td>\n",
       "      <td>12.8</td>\n",
       "      <td>10</td>\n",
       "      <td>3972.0</td>\n",
       "      <td>0.184626</td>\n",
       "      <td>0.177368</td>\n",
       "      <td>NaN</td>\n",
       "      <td>-0.431927</td>\n",
       "      <td>8.164266</td>\n",
       "    </tr>\n",
       "    <tr>\n",
       "      <th>42</th>\n",
       "      <td>2021-02-15</td>\n",
       "      <td>2097.132</td>\n",
       "      <td>0.00</td>\n",
       "      <td>350563.36</td>\n",
       "      <td>6603.868</td>\n",
       "      <td>332.00</td>\n",
       "      <td>16065.0</td>\n",
       "      <td>2</td>\n",
       "      <td>2020</td>\n",
       "      <td>12.5</td>\n",
       "      <td>15</td>\n",
       "      <td>3468.0</td>\n",
       "      <td>0.356957</td>\n",
       "      <td>0.379214</td>\n",
       "      <td>NaN</td>\n",
       "      <td>-0.662260</td>\n",
       "      <td>3.204077</td>\n",
       "    </tr>\n",
       "    <tr>\n",
       "      <th>47</th>\n",
       "      <td>2021-02-20</td>\n",
       "      <td>1983.728</td>\n",
       "      <td>0.00</td>\n",
       "      <td>348176.11</td>\n",
       "      <td>6289.872</td>\n",
       "      <td>382.00</td>\n",
       "      <td>14470.0</td>\n",
       "      <td>2</td>\n",
       "      <td>2020</td>\n",
       "      <td>12.4</td>\n",
       "      <td>20</td>\n",
       "      <td>3748.0</td>\n",
       "      <td>0.237051</td>\n",
       "      <td>0.233801</td>\n",
       "      <td>NaN</td>\n",
       "      <td>-0.613829</td>\n",
       "      <td>3.308385</td>\n",
       "    </tr>\n",
       "    <tr>\n",
       "      <th>48</th>\n",
       "      <td>2021-02-21</td>\n",
       "      <td>2740.314</td>\n",
       "      <td>0.00</td>\n",
       "      <td>346500.54</td>\n",
       "      <td>8834.886</td>\n",
       "      <td>8142.00</td>\n",
       "      <td>17083.0</td>\n",
       "      <td>2</td>\n",
       "      <td>2020</td>\n",
       "      <td>25.6</td>\n",
       "      <td>21</td>\n",
       "      <td>5905.0</td>\n",
       "      <td>1.786216</td>\n",
       "      <td>1.675543</td>\n",
       "      <td>NaN</td>\n",
       "      <td>2.660617</td>\n",
       "      <td>3.176719</td>\n",
       "    </tr>\n",
       "    <tr>\n",
       "      <th>65</th>\n",
       "      <td>2021-03-10</td>\n",
       "      <td>1830.684</td>\n",
       "      <td>3042.21</td>\n",
       "      <td>348383.29</td>\n",
       "      <td>5943.116</td>\n",
       "      <td>2583.99</td>\n",
       "      <td>7738.0</td>\n",
       "      <td>3</td>\n",
       "      <td>2020</td>\n",
       "      <td>55.2</td>\n",
       "      <td>10</td>\n",
       "      <td>5000.0</td>\n",
       "      <td>0.391759</td>\n",
       "      <td>0.321174</td>\n",
       "      <td>1.631128</td>\n",
       "      <td>0.337466</td>\n",
       "      <td>10.576512</td>\n",
       "    </tr>\n",
       "    <tr>\n",
       "      <th>96</th>\n",
       "      <td>2021-04-11</td>\n",
       "      <td>2555.146</td>\n",
       "      <td>6310.95</td>\n",
       "      <td>350139.21</td>\n",
       "      <td>8239.254</td>\n",
       "      <td>11165.65</td>\n",
       "      <td>10286.0</td>\n",
       "      <td>4</td>\n",
       "      <td>2020</td>\n",
       "      <td>102.9</td>\n",
       "      <td>11</td>\n",
       "      <td>6029.0</td>\n",
       "      <td>2.126852</td>\n",
       "      <td>2.063797</td>\n",
       "      <td>2.247089</td>\n",
       "      <td>4.357294</td>\n",
       "      <td>4.248514</td>\n",
       "    </tr>\n",
       "    <tr>\n",
       "      <th>108</th>\n",
       "      <td>2021-04-24</td>\n",
       "      <td>1518.418</td>\n",
       "      <td>7670.95</td>\n",
       "      <td>347783.21</td>\n",
       "      <td>5084.582</td>\n",
       "      <td>1481.05</td>\n",
       "      <td>8223.0</td>\n",
       "      <td>4</td>\n",
       "      <td>2020</td>\n",
       "      <td>60.6</td>\n",
       "      <td>24</td>\n",
       "      <td>4445.0</td>\n",
       "      <td>-0.147180</td>\n",
       "      <td>-0.323908</td>\n",
       "      <td>3.562334</td>\n",
       "      <td>-0.212218</td>\n",
       "      <td>8.171678</td>\n",
       "    </tr>\n",
       "    <tr>\n",
       "      <th>114</th>\n",
       "      <td>2021-04-30</td>\n",
       "      <td>1118.628</td>\n",
       "      <td>5209.85</td>\n",
       "      <td>348217.45</td>\n",
       "      <td>3666.372</td>\n",
       "      <td>610.15</td>\n",
       "      <td>6969.0</td>\n",
       "      <td>4</td>\n",
       "      <td>2020</td>\n",
       "      <td>39.9</td>\n",
       "      <td>30</td>\n",
       "      <td>2695.0</td>\n",
       "      <td>-0.960579</td>\n",
       "      <td>-1.005174</td>\n",
       "      <td>0.607129</td>\n",
       "      <td>-0.432639</td>\n",
       "      <td>475.706087</td>\n",
       "    </tr>\n",
       "    <tr>\n",
       "      <th>119</th>\n",
       "      <td>2021-05-05</td>\n",
       "      <td>1805.308</td>\n",
       "      <td>3230.00</td>\n",
       "      <td>339992.07</td>\n",
       "      <td>5920.492</td>\n",
       "      <td>2175.20</td>\n",
       "      <td>12183.0</td>\n",
       "      <td>5</td>\n",
       "      <td>2020</td>\n",
       "      <td>48.3</td>\n",
       "      <td>5</td>\n",
       "      <td>2969.0</td>\n",
       "      <td>0.861621</td>\n",
       "      <td>0.747523</td>\n",
       "      <td>-1.414490</td>\n",
       "      <td>0.330373</td>\n",
       "      <td>4.716332</td>\n",
       "    </tr>\n",
       "    <tr>\n",
       "      <th>120</th>\n",
       "      <td>2021-05-06</td>\n",
       "      <td>2009.644</td>\n",
       "      <td>7349.75</td>\n",
       "      <td>347184.55</td>\n",
       "      <td>6767.356</td>\n",
       "      <td>1241.25</td>\n",
       "      <td>12223.0</td>\n",
       "      <td>5</td>\n",
       "      <td>2020</td>\n",
       "      <td>84.9</td>\n",
       "      <td>6</td>\n",
       "      <td>10932.0</td>\n",
       "      <td>1.509608</td>\n",
       "      <td>1.244796</td>\n",
       "      <td>2.783013</td>\n",
       "      <td>-0.118041</td>\n",
       "      <td>11.651320</td>\n",
       "    </tr>\n",
       "    <tr>\n",
       "      <th>142</th>\n",
       "      <td>2021-05-29</td>\n",
       "      <td>2049.808</td>\n",
       "      <td>5140.30</td>\n",
       "      <td>345890.46</td>\n",
       "      <td>6648.592</td>\n",
       "      <td>404.30</td>\n",
       "      <td>16635.0</td>\n",
       "      <td>5</td>\n",
       "      <td>2020</td>\n",
       "      <td>54.9</td>\n",
       "      <td>29</td>\n",
       "      <td>4057.0</td>\n",
       "      <td>1.460011</td>\n",
       "      <td>1.411288</td>\n",
       "      <td>0.536597</td>\n",
       "      <td>-0.663808</td>\n",
       "      <td>66.971916</td>\n",
       "    </tr>\n",
       "    <tr>\n",
       "      <th>146</th>\n",
       "      <td>2021-06-02</td>\n",
       "      <td>2712.986</td>\n",
       "      <td>7415.35</td>\n",
       "      <td>347172.58</td>\n",
       "      <td>8710.814</td>\n",
       "      <td>2236.85</td>\n",
       "      <td>17857.0</td>\n",
       "      <td>6</td>\n",
       "      <td>2020</td>\n",
       "      <td>76.2</td>\n",
       "      <td>2</td>\n",
       "      <td>4324.0</td>\n",
       "      <td>3.209100</td>\n",
       "      <td>3.223566</td>\n",
       "      <td>2.836034</td>\n",
       "      <td>0.686641</td>\n",
       "      <td>7.358751</td>\n",
       "    </tr>\n",
       "    <tr>\n",
       "      <th>150</th>\n",
       "      <td>2021-06-06</td>\n",
       "      <td>1746.792</td>\n",
       "      <td>7279.65</td>\n",
       "      <td>347647.13</td>\n",
       "      <td>5868.208</td>\n",
       "      <td>596.35</td>\n",
       "      <td>11365.0</td>\n",
       "      <td>6</td>\n",
       "      <td>2020</td>\n",
       "      <td>69.3</td>\n",
       "      <td>6</td>\n",
       "      <td>7609.0</td>\n",
       "      <td>0.637612</td>\n",
       "      <td>0.464820</td>\n",
       "      <td>2.317388</td>\n",
       "      <td>-0.617825</td>\n",
       "      <td>13.280005</td>\n",
       "    </tr>\n",
       "    <tr>\n",
       "      <th>159</th>\n",
       "      <td>2021-06-16</td>\n",
       "      <td>1768.092</td>\n",
       "      <td>4576.95</td>\n",
       "      <td>346681.99</td>\n",
       "      <td>5696.508</td>\n",
       "      <td>4983.45</td>\n",
       "      <td>10336.0</td>\n",
       "      <td>6</td>\n",
       "      <td>2020</td>\n",
       "      <td>56.7</td>\n",
       "      <td>16</td>\n",
       "      <td>10000.0</td>\n",
       "      <td>0.654504</td>\n",
       "      <td>0.671415</td>\n",
       "      <td>-0.064379</td>\n",
       "      <td>3.087400</td>\n",
       "      <td>3.773491</td>\n",
       "    </tr>\n",
       "    <tr>\n",
       "      <th>160</th>\n",
       "      <td>2021-06-17</td>\n",
       "      <td>1028.018</td>\n",
       "      <td>4206.70</td>\n",
       "      <td>346215.01</td>\n",
       "      <td>3365.382</td>\n",
       "      <td>499.90</td>\n",
       "      <td>8510.0</td>\n",
       "      <td>6</td>\n",
       "      <td>2020</td>\n",
       "      <td>27.3</td>\n",
       "      <td>17</td>\n",
       "      <td>20000.0</td>\n",
       "      <td>-1.102576</td>\n",
       "      <td>-1.113051</td>\n",
       "      <td>-0.412724</td>\n",
       "      <td>-0.585940</td>\n",
       "      <td>3.628507</td>\n",
       "    </tr>\n",
       "    <tr>\n",
       "      <th>164</th>\n",
       "      <td>2021-06-21</td>\n",
       "      <td>1660.890</td>\n",
       "      <td>4242.00</td>\n",
       "      <td>346973.75</td>\n",
       "      <td>5463.710</td>\n",
       "      <td>3509.40</td>\n",
       "      <td>11179.0</td>\n",
       "      <td>6</td>\n",
       "      <td>2020</td>\n",
       "      <td>56.1</td>\n",
       "      <td>21</td>\n",
       "      <td>10000.0</td>\n",
       "      <td>0.519639</td>\n",
       "      <td>0.462500</td>\n",
       "      <td>-0.477151</td>\n",
       "      <td>1.500969</td>\n",
       "      <td>536.605367</td>\n",
       "    </tr>\n",
       "    <tr>\n",
       "      <th>165</th>\n",
       "      <td>2021-06-22</td>\n",
       "      <td>1520.588</td>\n",
       "      <td>5235.85</td>\n",
       "      <td>346586.29</td>\n",
       "      <td>5077.012</td>\n",
       "      <td>6198.55</td>\n",
       "      <td>9230.0</td>\n",
       "      <td>6</td>\n",
       "      <td>2020</td>\n",
       "      <td>57.0</td>\n",
       "      <td>22</td>\n",
       "      <td>20000.0</td>\n",
       "      <td>0.190747</td>\n",
       "      <td>0.089863</td>\n",
       "      <td>0.448825</td>\n",
       "      <td>3.289464</td>\n",
       "      <td>3.559123</td>\n",
       "    </tr>\n",
       "    <tr>\n",
       "      <th>192</th>\n",
       "      <td>2021-07-20</td>\n",
       "      <td>855.824</td>\n",
       "      <td>3276.90</td>\n",
       "      <td>347974.54</td>\n",
       "      <td>2842.776</td>\n",
       "      <td>515.50</td>\n",
       "      <td>5178.0</td>\n",
       "      <td>7</td>\n",
       "      <td>2020</td>\n",
       "      <td>22.5</td>\n",
       "      <td>20</td>\n",
       "      <td>9.0</td>\n",
       "      <td>-1.351485</td>\n",
       "      <td>-1.314470</td>\n",
       "      <td>-0.423959</td>\n",
       "      <td>-0.721177</td>\n",
       "      <td>inf</td>\n",
       "    </tr>\n",
       "    <tr>\n",
       "      <th>193</th>\n",
       "      <td>2021-07-21</td>\n",
       "      <td>1064.166</td>\n",
       "      <td>3663.69</td>\n",
       "      <td>348077.96</td>\n",
       "      <td>3550.834</td>\n",
       "      <td>591.31</td>\n",
       "      <td>6178.0</td>\n",
       "      <td>7</td>\n",
       "      <td>2020</td>\n",
       "      <td>32.7</td>\n",
       "      <td>21</td>\n",
       "      <td>2030.0</td>\n",
       "      <td>-0.620466</td>\n",
       "      <td>-0.638096</td>\n",
       "      <td>-0.186041</td>\n",
       "      <td>-0.638602</td>\n",
       "      <td>477.768482</td>\n",
       "    </tr>\n",
       "    <tr>\n",
       "      <th>199</th>\n",
       "      <td>2021-07-27</td>\n",
       "      <td>952.360</td>\n",
       "      <td>2620.95</td>\n",
       "      <td>345067.34</td>\n",
       "      <td>3118.440</td>\n",
       "      <td>501.25</td>\n",
       "      <td>4042.0</td>\n",
       "      <td>7</td>\n",
       "      <td>2020</td>\n",
       "      <td>24.3</td>\n",
       "      <td>27</td>\n",
       "      <td>907.0</td>\n",
       "      <td>-0.826754</td>\n",
       "      <td>-0.771441</td>\n",
       "      <td>-0.648946</td>\n",
       "      <td>-0.776304</td>\n",
       "      <td>inf</td>\n",
       "    </tr>\n",
       "  </tbody>\n",
       "</table>\n",
       "</div>"
      ],
      "text/plain": [
       "          Date    Fridge       AC    Voltage  Kitchen Appliances  \\\n",
       "8   2021-01-09  1593.318     0.00  347418.49            5162.682   \n",
       "27  2021-01-30  2842.728     0.00  348594.33            9119.672   \n",
       "33  2021-02-05  2187.910     0.00  346159.08            7060.490   \n",
       "38  2021-02-10  1923.254     0.00  346612.98            6118.146   \n",
       "42  2021-02-15  2097.132     0.00  350563.36            6603.868   \n",
       "47  2021-02-20  1983.728     0.00  348176.11            6289.872   \n",
       "48  2021-02-21  2740.314     0.00  346500.54            8834.886   \n",
       "65  2021-03-10  1830.684  3042.21  348383.29            5943.116   \n",
       "96  2021-04-11  2555.146  6310.95  350139.21            8239.254   \n",
       "108 2021-04-24  1518.418  7670.95  347783.21            5084.582   \n",
       "114 2021-04-30  1118.628  5209.85  348217.45            3666.372   \n",
       "119 2021-05-05  1805.308  3230.00  339992.07            5920.492   \n",
       "120 2021-05-06  2009.644  7349.75  347184.55            6767.356   \n",
       "142 2021-05-29  2049.808  5140.30  345890.46            6648.592   \n",
       "146 2021-06-02  2712.986  7415.35  347172.58            8710.814   \n",
       "150 2021-06-06  1746.792  7279.65  347647.13            5868.208   \n",
       "159 2021-06-16  1768.092  4576.95  346681.99            5696.508   \n",
       "160 2021-06-17  1028.018  4206.70  346215.01            3365.382   \n",
       "164 2021-06-21  1660.890  4242.00  346973.75            5463.710   \n",
       "165 2021-06-22  1520.588  5235.85  346586.29            5077.012   \n",
       "192 2021-07-20   855.824  3276.90  347974.54            2842.776   \n",
       "193 2021-07-21  1064.166  3663.69  348077.96            3550.834   \n",
       "199 2021-07-27   952.360  2620.95  345067.34            3118.440   \n",
       "\n",
       "     Other Appliances  Sub_metering_3  month  year  Total_Consumption  day  \\\n",
       "8             1194.00         13990.0      1  2020                9.9    9   \n",
       "27            7544.00         17891.0      1  2020               22.7   30   \n",
       "33            7966.00         14454.0      2  2020               19.1    5   \n",
       "38             741.00         13532.0      2  2020               12.8   10   \n",
       "42             332.00         16065.0      2  2020               12.5   15   \n",
       "47             382.00         14470.0      2  2020               12.4   20   \n",
       "48            8142.00         17083.0      2  2020               25.6   21   \n",
       "65            2583.99          7738.0      3  2020               55.2   10   \n",
       "96           11165.65         10286.0      4  2020              102.9   11   \n",
       "108           1481.05          8223.0      4  2020               60.6   24   \n",
       "114            610.15          6969.0      4  2020               39.9   30   \n",
       "119           2175.20         12183.0      5  2020               48.3    5   \n",
       "120           1241.25         12223.0      5  2020               84.9    6   \n",
       "142            404.30         16635.0      5  2020               54.9   29   \n",
       "146           2236.85         17857.0      6  2020               76.2    2   \n",
       "150            596.35         11365.0      6  2020               69.3    6   \n",
       "159           4983.45         10336.0      6  2020               56.7   16   \n",
       "160            499.90          8510.0      6  2020               27.3   17   \n",
       "164           3509.40         11179.0      6  2020               56.1   21   \n",
       "165           6198.55          9230.0      6  2020               57.0   22   \n",
       "192            515.50          5178.0      7  2020               22.5   20   \n",
       "193            591.31          6178.0      7  2020               32.7   21   \n",
       "199            501.25          4042.0      7  2020               24.3   27   \n",
       "\n",
       "     Washing Machine  kap_zscore  fridge_zscore  ac_zscore  oap_zscore  \\\n",
       "8             1947.0         NaN            NaN        NaN         NaN   \n",
       "27            3240.0         NaN            NaN        NaN         NaN   \n",
       "33            1858.0    0.727257       0.653262        NaN    3.378153   \n",
       "38            3972.0    0.184626       0.177368        NaN   -0.431927   \n",
       "42            3468.0    0.356957       0.379214        NaN   -0.662260   \n",
       "47            3748.0    0.237051       0.233801        NaN   -0.613829   \n",
       "48            5905.0    1.786216       1.675543        NaN    2.660617   \n",
       "65            5000.0    0.391759       0.321174   1.631128    0.337466   \n",
       "96            6029.0    2.126852       2.063797   2.247089    4.357294   \n",
       "108           4445.0   -0.147180      -0.323908   3.562334   -0.212218   \n",
       "114           2695.0   -0.960579      -1.005174   0.607129   -0.432639   \n",
       "119           2969.0    0.861621       0.747523  -1.414490    0.330373   \n",
       "120          10932.0    1.509608       1.244796   2.783013   -0.118041   \n",
       "142           4057.0    1.460011       1.411288   0.536597   -0.663808   \n",
       "146           4324.0    3.209100       3.223566   2.836034    0.686641   \n",
       "150           7609.0    0.637612       0.464820   2.317388   -0.617825   \n",
       "159          10000.0    0.654504       0.671415  -0.064379    3.087400   \n",
       "160          20000.0   -1.102576      -1.113051  -0.412724   -0.585940   \n",
       "164          10000.0    0.519639       0.462500  -0.477151    1.500969   \n",
       "165          20000.0    0.190747       0.089863   0.448825    3.289464   \n",
       "192              9.0   -1.351485      -1.314470  -0.423959   -0.721177   \n",
       "193           2030.0   -0.620466      -0.638096  -0.186041   -0.638602   \n",
       "199            907.0   -0.826754      -0.771441  -0.648946   -0.776304   \n",
       "\n",
       "      wm_zscore  \n",
       "8      3.046567  \n",
       "27     5.342202  \n",
       "33          inf  \n",
       "38     8.164266  \n",
       "42     3.204077  \n",
       "47     3.308385  \n",
       "48     3.176719  \n",
       "65    10.576512  \n",
       "96     4.248514  \n",
       "108    8.171678  \n",
       "114  475.706087  \n",
       "119    4.716332  \n",
       "120   11.651320  \n",
       "142   66.971916  \n",
       "146    7.358751  \n",
       "150   13.280005  \n",
       "159    3.773491  \n",
       "160    3.628507  \n",
       "164  536.605367  \n",
       "165    3.559123  \n",
       "192         inf  \n",
       "193  477.768482  \n",
       "199         inf  "
      ]
     },
     "execution_count": 20,
     "metadata": {},
     "output_type": "execute_result"
    }
   ],
   "source": [
    "df1[df1['wm_zscore'] > 3]"
   ]
  },
  {
   "cell_type": "code",
   "execution_count": 21,
   "id": "03291039",
   "metadata": {},
   "outputs": [
    {
     "ename": "ValueError",
     "evalue": "Mime type rendering requires nbformat>=4.2.0 but it is not installed",
     "output_type": "error",
     "traceback": [
      "\u001b[1;31m---------------------------------------------------------------------------\u001b[0m",
      "\u001b[1;31mValueError\u001b[0m                                Traceback (most recent call last)",
      "File \u001b[1;32m~\\AppData\\Roaming\\Python\\Python311\\site-packages\\IPython\\core\\formatters.py:922\u001b[0m, in \u001b[0;36mIPythonDisplayFormatter.__call__\u001b[1;34m(self, obj)\u001b[0m\n\u001b[0;32m    920\u001b[0m method \u001b[38;5;241m=\u001b[39m get_real_method(obj, \u001b[38;5;28mself\u001b[39m\u001b[38;5;241m.\u001b[39mprint_method)\n\u001b[0;32m    921\u001b[0m \u001b[38;5;28;01mif\u001b[39;00m method \u001b[38;5;129;01mis\u001b[39;00m \u001b[38;5;129;01mnot\u001b[39;00m \u001b[38;5;28;01mNone\u001b[39;00m:\n\u001b[1;32m--> 922\u001b[0m     \u001b[43mmethod\u001b[49m\u001b[43m(\u001b[49m\u001b[43m)\u001b[49m\n\u001b[0;32m    923\u001b[0m     \u001b[38;5;28;01mreturn\u001b[39;00m \u001b[38;5;28;01mTrue\u001b[39;00m\n",
      "File \u001b[1;32mc:\\Python311\\Lib\\site-packages\\plotly\\basedatatypes.py:832\u001b[0m, in \u001b[0;36mBaseFigure._ipython_display_\u001b[1;34m(self)\u001b[0m\n\u001b[0;32m    829\u001b[0m \u001b[38;5;28;01mimport\u001b[39;00m \u001b[38;5;21;01mplotly\u001b[39;00m\u001b[38;5;21;01m.\u001b[39;00m\u001b[38;5;21;01mio\u001b[39;00m \u001b[38;5;28;01mas\u001b[39;00m \u001b[38;5;21;01mpio\u001b[39;00m\n\u001b[0;32m    831\u001b[0m \u001b[38;5;28;01mif\u001b[39;00m pio\u001b[38;5;241m.\u001b[39mrenderers\u001b[38;5;241m.\u001b[39mrender_on_display \u001b[38;5;129;01mand\u001b[39;00m pio\u001b[38;5;241m.\u001b[39mrenderers\u001b[38;5;241m.\u001b[39mdefault:\n\u001b[1;32m--> 832\u001b[0m     \u001b[43mpio\u001b[49m\u001b[38;5;241;43m.\u001b[39;49m\u001b[43mshow\u001b[49m\u001b[43m(\u001b[49m\u001b[38;5;28;43mself\u001b[39;49m\u001b[43m)\u001b[49m\n\u001b[0;32m    833\u001b[0m \u001b[38;5;28;01melse\u001b[39;00m:\n\u001b[0;32m    834\u001b[0m     \u001b[38;5;28mprint\u001b[39m(\u001b[38;5;28mrepr\u001b[39m(\u001b[38;5;28mself\u001b[39m))\n",
      "File \u001b[1;32mc:\\Python311\\Lib\\site-packages\\plotly\\io\\_renderers.py:394\u001b[0m, in \u001b[0;36mshow\u001b[1;34m(fig, renderer, validate, **kwargs)\u001b[0m\n\u001b[0;32m    389\u001b[0m         \u001b[38;5;28;01mraise\u001b[39;00m \u001b[38;5;167;01mValueError\u001b[39;00m(\n\u001b[0;32m    390\u001b[0m             \u001b[38;5;124m\"\u001b[39m\u001b[38;5;124mMime type rendering requires ipython but it is not installed\u001b[39m\u001b[38;5;124m\"\u001b[39m\n\u001b[0;32m    391\u001b[0m         )\n\u001b[0;32m    393\u001b[0m     \u001b[38;5;28;01mif\u001b[39;00m \u001b[38;5;129;01mnot\u001b[39;00m nbformat \u001b[38;5;129;01mor\u001b[39;00m Version(nbformat\u001b[38;5;241m.\u001b[39m__version__) \u001b[38;5;241m<\u001b[39m Version(\u001b[38;5;124m\"\u001b[39m\u001b[38;5;124m4.2.0\u001b[39m\u001b[38;5;124m\"\u001b[39m):\n\u001b[1;32m--> 394\u001b[0m         \u001b[38;5;28;01mraise\u001b[39;00m \u001b[38;5;167;01mValueError\u001b[39;00m(\n\u001b[0;32m    395\u001b[0m             \u001b[38;5;124m\"\u001b[39m\u001b[38;5;124mMime type rendering requires nbformat>=4.2.0 but it is not installed\u001b[39m\u001b[38;5;124m\"\u001b[39m\n\u001b[0;32m    396\u001b[0m         )\n\u001b[0;32m    398\u001b[0m     ipython_display\u001b[38;5;241m.\u001b[39mdisplay(bundle, raw\u001b[38;5;241m=\u001b[39m\u001b[38;5;28;01mTrue\u001b[39;00m)\n\u001b[0;32m    400\u001b[0m \u001b[38;5;66;03m# external renderers\u001b[39;00m\n",
      "\u001b[1;31mValueError\u001b[0m: Mime type rendering requires nbformat>=4.2.0 but it is not installed"
     ]
    },
    {
     "data": {
      "application/vnd.plotly.v1+json": {
       "config": {
        "plotlyServerURL": "https://plot.ly"
       },
       "data": [
        {
         "mode": "lines",
         "name": "lines",
         "type": "scatter",
         "x": [
          "2021-01-01T00:00:00",
          "2021-01-02T00:00:00",
          "2021-01-03T00:00:00",
          "2021-01-04T00:00:00",
          "2021-01-05T00:00:00",
          "2021-01-06T00:00:00",
          "2021-01-07T00:00:00",
          "2021-01-08T00:00:00",
          "2021-01-09T00:00:00",
          "2021-01-10T00:00:00",
          "2021-01-11T00:00:00",
          "2021-01-14T00:00:00",
          "2021-01-15T00:00:00",
          "2021-01-16T00:00:00",
          "2021-01-17T00:00:00",
          "2021-01-18T00:00:00",
          "2021-01-19T00:00:00",
          "2021-01-20T00:00:00",
          "2021-01-21T00:00:00",
          "2021-01-22T00:00:00",
          "2021-01-23T00:00:00",
          "2021-01-24T00:00:00",
          "2021-01-25T00:00:00",
          "2021-01-26T00:00:00",
          "2021-01-27T00:00:00",
          "2021-01-28T00:00:00",
          "2021-01-29T00:00:00",
          "2021-01-30T00:00:00",
          "2021-01-31T00:00:00",
          "2021-02-01T00:00:00",
          "2021-02-02T00:00:00",
          "2021-02-03T00:00:00",
          "2021-02-04T00:00:00",
          "2021-02-05T00:00:00",
          "2021-02-06T00:00:00",
          "2021-02-07T00:00:00",
          "2021-02-08T00:00:00",
          "2021-02-09T00:00:00",
          "2021-02-10T00:00:00",
          "2021-02-11T00:00:00",
          "2021-02-13T00:00:00",
          "2021-02-14T00:00:00",
          "2021-02-15T00:00:00",
          "2021-02-16T00:00:00",
          "2021-02-17T00:00:00",
          "2021-02-18T00:00:00",
          "2021-02-19T00:00:00",
          "2021-02-20T00:00:00",
          "2021-02-21T00:00:00",
          "2021-02-22T00:00:00",
          "2021-02-23T00:00:00",
          "2021-02-24T00:00:00",
          "2021-02-25T00:00:00",
          "2021-02-26T00:00:00",
          "2021-02-27T00:00:00",
          "2021-02-28T00:00:00",
          "2021-03-01T00:00:00",
          "2021-03-02T00:00:00",
          "2021-03-03T00:00:00",
          "2021-03-04T00:00:00",
          "2021-03-05T00:00:00",
          "2021-03-06T00:00:00",
          "2021-03-07T00:00:00",
          "2021-03-08T00:00:00",
          "2021-03-09T00:00:00",
          "2021-03-10T00:00:00",
          "2021-03-11T00:00:00",
          "2021-03-13T00:00:00",
          "2021-03-14T00:00:00",
          "2021-03-15T00:00:00",
          "2021-03-16T00:00:00",
          "2021-03-17T00:00:00",
          "2021-03-18T00:00:00",
          "2021-03-19T00:00:00",
          "2021-03-20T00:00:00",
          "2021-03-21T00:00:00",
          "2021-03-22T00:00:00",
          "2021-03-23T00:00:00",
          "2021-03-24T00:00:00",
          "2021-03-25T00:00:00",
          "2021-03-26T00:00:00",
          "2021-03-27T00:00:00",
          "2021-03-28T00:00:00",
          "2021-03-29T00:00:00",
          "2021-03-30T00:00:00",
          "2021-03-31T00:00:00",
          "2021-04-01T00:00:00",
          "2021-04-02T00:00:00",
          "2021-04-03T00:00:00",
          "2021-04-04T00:00:00",
          "2021-04-05T00:00:00",
          "2021-04-06T00:00:00",
          "2021-04-07T00:00:00",
          "2021-04-08T00:00:00",
          "2021-04-09T00:00:00",
          "2021-04-10T00:00:00",
          "2021-04-11T00:00:00",
          "2021-04-13T00:00:00",
          "2021-04-14T00:00:00",
          "2021-04-15T00:00:00",
          "2021-04-16T00:00:00",
          "2021-04-17T00:00:00",
          "2021-04-18T00:00:00",
          "2021-04-19T00:00:00",
          "2021-04-20T00:00:00",
          "2021-04-21T00:00:00",
          "2021-04-22T00:00:00",
          "2021-04-23T00:00:00",
          "2021-04-24T00:00:00",
          "2021-04-25T00:00:00",
          "2021-04-26T00:00:00",
          "2021-04-27T00:00:00",
          "2021-04-28T00:00:00",
          "2021-04-29T00:00:00",
          "2021-04-30T00:00:00",
          "2021-05-01T00:00:00",
          "2021-05-02T00:00:00",
          "2021-05-03T00:00:00",
          "2021-05-04T00:00:00",
          "2021-05-05T00:00:00",
          "2021-05-06T00:00:00",
          "2021-05-07T00:00:00",
          "2021-05-08T00:00:00",
          "2021-05-09T00:00:00",
          "2021-05-10T00:00:00",
          "2021-05-11T00:00:00",
          "2021-05-13T00:00:00",
          "2021-05-14T00:00:00",
          "2021-05-15T00:00:00",
          "2021-05-16T00:00:00",
          "2021-05-17T00:00:00",
          "2021-05-18T00:00:00",
          "2021-05-19T00:00:00",
          "2021-05-20T00:00:00",
          "2021-05-21T00:00:00",
          "2021-05-22T00:00:00",
          "2021-05-23T00:00:00",
          "2021-05-24T00:00:00",
          "2021-05-25T00:00:00",
          "2021-05-26T00:00:00",
          "2021-05-27T00:00:00",
          "2021-05-28T00:00:00",
          "2021-05-29T00:00:00",
          "2021-05-30T00:00:00",
          "2021-05-31T00:00:00",
          "2021-06-01T00:00:00",
          "2021-06-02T00:00:00",
          "2021-06-03T00:00:00",
          "2021-06-04T00:00:00",
          "2021-06-05T00:00:00",
          "2021-06-06T00:00:00",
          "2021-06-07T00:00:00",
          "2021-06-08T00:00:00",
          "2021-06-09T00:00:00",
          "2021-06-10T00:00:00",
          "2021-06-11T00:00:00",
          "2021-06-13T00:00:00",
          "2021-06-14T00:00:00",
          "2021-06-15T00:00:00",
          "2021-06-16T00:00:00",
          "2021-06-17T00:00:00",
          "2021-06-18T00:00:00",
          "2021-06-19T00:00:00",
          "2021-06-20T00:00:00",
          "2021-06-21T00:00:00",
          "2021-06-22T00:00:00",
          "2021-06-23T00:00:00",
          "2021-06-24T00:00:00",
          "2021-06-25T00:00:00",
          "2021-06-26T00:00:00",
          "2021-06-27T00:00:00",
          "2021-06-28T00:00:00",
          "2021-06-29T00:00:00",
          "2021-06-30T00:00:00",
          "2021-07-01T00:00:00",
          "2021-07-02T00:00:00",
          "2021-07-03T00:00:00",
          "2021-07-04T00:00:00",
          "2021-07-05T00:00:00",
          "2021-07-06T00:00:00",
          "2021-07-07T00:00:00",
          "2021-07-08T00:00:00",
          "2021-07-09T00:00:00",
          "2021-07-10T00:00:00",
          "2021-07-11T00:00:00",
          "2021-07-13T00:00:00",
          "2021-07-14T00:00:00",
          "2021-07-15T00:00:00",
          "2021-07-16T00:00:00",
          "2021-07-17T00:00:00",
          "2021-07-18T00:00:00",
          "2021-07-19T00:00:00",
          "2021-07-20T00:00:00",
          "2021-07-21T00:00:00",
          "2021-07-22T00:00:00",
          "2021-07-23T00:00:00",
          "2021-07-24T00:00:00",
          "2021-07-25T00:00:00",
          "2021-07-26T00:00:00",
          "2021-07-27T00:00:00",
          "2021-07-28T00:00:00",
          "2021-07-29T00:00:00",
          "2021-07-30T00:00:00"
         ],
         "y": [
          2304,
          1111,
          1785,
          1780,
          1984,
          970,
          877,
          0,
          1947,
          1752,
          0,
          1890,
          1957,
          2605,
          1992,
          617,
          2044,
          2317,
          894,
          699,
          3154,
          3496,
          1368,
          526,
          2044,
          2032,
          1488,
          3240,
          1715,
          801,
          0,
          0,
          0,
          1858,
          0,
          822,
          0,
          929,
          3972,
          0,
          1838,
          1223,
          3468,
          1945,
          2294,
          965,
          2124,
          3748,
          5905,
          1393,
          0,
          2260,
          0,
          1146,
          3743,
          0,
          3842,
          2234,
          0,
          1778,
          980,
          2916,
          0,
          0,
          940,
          5000,
          1021,
          2848,
          3464,
          778,
          0,
          1136,
          1147,
          0,
          0,
          1670,
          1142,
          2892,
          1075,
          0,
          1078,
          1067,
          1083,
          0,
          1760,
          1067,
          0,
          1074,
          0,
          1097,
          0,
          1695,
          860,
          0,
          2605,
          1709,
          6029,
          1097,
          1132,
          2526,
          2837,
          553,
          1104,
          1230,
          1388,
          0,
          1062,
          0,
          4445,
          0,
          1038,
          0,
          0,
          12,
          2695,
          1785,
          902,
          1108,
          1755,
          2969,
          10932,
          841,
          0,
          1609,
          0,
          0,
          2123,
          1045,
          3347,
          3361,
          1014,
          0,
          2122,
          0,
          1073,
          2278,
          864,
          1875,
          474,
          914,
          932,
          1020,
          4057,
          2405,
          1710,
          1731,
          4324,
          0,
          1154,
          0,
          7609,
          0,
          0,
          3164,
          1016,
          3255,
          4922,
          958,
          0,
          10000,
          20000,
          145,
          100,
          120,
          10000,
          20000,
          120,
          15660,
          10000,
          100,
          20000,
          100,
          20000,
          10000,
          1198,
          2736,
          0,
          1077,
          1053,
          1821,
          879,
          0,
          1929,
          2159,
          1026,
          2273,
          1064,
          1071,
          0,
          0,
          0,
          0,
          9,
          2030,
          0,
          897,
          0,
          0,
          0,
          907,
          801,
          0,
          0
         ]
        },
        {
         "mode": "markers",
         "name": "lines",
         "type": "scatter",
         "x": [
          "2021-01-09T00:00:00",
          "2021-01-30T00:00:00",
          "2021-02-05T00:00:00",
          "2021-02-10T00:00:00",
          "2021-02-15T00:00:00",
          "2021-02-20T00:00:00",
          "2021-02-21T00:00:00",
          "2021-03-10T00:00:00",
          "2021-04-11T00:00:00",
          "2021-04-24T00:00:00",
          "2021-04-30T00:00:00",
          "2021-05-05T00:00:00",
          "2021-05-06T00:00:00",
          "2021-05-29T00:00:00",
          "2021-06-02T00:00:00",
          "2021-06-06T00:00:00",
          "2021-06-16T00:00:00",
          "2021-06-17T00:00:00",
          "2021-06-21T00:00:00",
          "2021-06-22T00:00:00",
          "2021-07-20T00:00:00",
          "2021-07-21T00:00:00",
          "2021-07-27T00:00:00"
         ],
         "y": [
          1947,
          3240,
          1858,
          3972,
          3468,
          3748,
          5905,
          5000,
          6029,
          4445,
          2695,
          2969,
          10932,
          4057,
          4324,
          7609,
          10000,
          20000,
          10000,
          20000,
          9,
          2030,
          907
         ]
        }
       ],
       "layout": {
        "template": {
         "data": {
          "bar": [
           {
            "error_x": {
             "color": "#2a3f5f"
            },
            "error_y": {
             "color": "#2a3f5f"
            },
            "marker": {
             "line": {
              "color": "#E5ECF6",
              "width": 0.5
             },
             "pattern": {
              "fillmode": "overlay",
              "size": 10,
              "solidity": 0.2
             }
            },
            "type": "bar"
           }
          ],
          "barpolar": [
           {
            "marker": {
             "line": {
              "color": "#E5ECF6",
              "width": 0.5
             },
             "pattern": {
              "fillmode": "overlay",
              "size": 10,
              "solidity": 0.2
             }
            },
            "type": "barpolar"
           }
          ],
          "carpet": [
           {
            "aaxis": {
             "endlinecolor": "#2a3f5f",
             "gridcolor": "white",
             "linecolor": "white",
             "minorgridcolor": "white",
             "startlinecolor": "#2a3f5f"
            },
            "baxis": {
             "endlinecolor": "#2a3f5f",
             "gridcolor": "white",
             "linecolor": "white",
             "minorgridcolor": "white",
             "startlinecolor": "#2a3f5f"
            },
            "type": "carpet"
           }
          ],
          "choropleth": [
           {
            "colorbar": {
             "outlinewidth": 0,
             "ticks": ""
            },
            "type": "choropleth"
           }
          ],
          "contour": [
           {
            "colorbar": {
             "outlinewidth": 0,
             "ticks": ""
            },
            "colorscale": [
             [
              0,
              "#0d0887"
             ],
             [
              0.1111111111111111,
              "#46039f"
             ],
             [
              0.2222222222222222,
              "#7201a8"
             ],
             [
              0.3333333333333333,
              "#9c179e"
             ],
             [
              0.4444444444444444,
              "#bd3786"
             ],
             [
              0.5555555555555556,
              "#d8576b"
             ],
             [
              0.6666666666666666,
              "#ed7953"
             ],
             [
              0.7777777777777778,
              "#fb9f3a"
             ],
             [
              0.8888888888888888,
              "#fdca26"
             ],
             [
              1,
              "#f0f921"
             ]
            ],
            "type": "contour"
           }
          ],
          "contourcarpet": [
           {
            "colorbar": {
             "outlinewidth": 0,
             "ticks": ""
            },
            "type": "contourcarpet"
           }
          ],
          "heatmap": [
           {
            "colorbar": {
             "outlinewidth": 0,
             "ticks": ""
            },
            "colorscale": [
             [
              0,
              "#0d0887"
             ],
             [
              0.1111111111111111,
              "#46039f"
             ],
             [
              0.2222222222222222,
              "#7201a8"
             ],
             [
              0.3333333333333333,
              "#9c179e"
             ],
             [
              0.4444444444444444,
              "#bd3786"
             ],
             [
              0.5555555555555556,
              "#d8576b"
             ],
             [
              0.6666666666666666,
              "#ed7953"
             ],
             [
              0.7777777777777778,
              "#fb9f3a"
             ],
             [
              0.8888888888888888,
              "#fdca26"
             ],
             [
              1,
              "#f0f921"
             ]
            ],
            "type": "heatmap"
           }
          ],
          "heatmapgl": [
           {
            "colorbar": {
             "outlinewidth": 0,
             "ticks": ""
            },
            "colorscale": [
             [
              0,
              "#0d0887"
             ],
             [
              0.1111111111111111,
              "#46039f"
             ],
             [
              0.2222222222222222,
              "#7201a8"
             ],
             [
              0.3333333333333333,
              "#9c179e"
             ],
             [
              0.4444444444444444,
              "#bd3786"
             ],
             [
              0.5555555555555556,
              "#d8576b"
             ],
             [
              0.6666666666666666,
              "#ed7953"
             ],
             [
              0.7777777777777778,
              "#fb9f3a"
             ],
             [
              0.8888888888888888,
              "#fdca26"
             ],
             [
              1,
              "#f0f921"
             ]
            ],
            "type": "heatmapgl"
           }
          ],
          "histogram": [
           {
            "marker": {
             "pattern": {
              "fillmode": "overlay",
              "size": 10,
              "solidity": 0.2
             }
            },
            "type": "histogram"
           }
          ],
          "histogram2d": [
           {
            "colorbar": {
             "outlinewidth": 0,
             "ticks": ""
            },
            "colorscale": [
             [
              0,
              "#0d0887"
             ],
             [
              0.1111111111111111,
              "#46039f"
             ],
             [
              0.2222222222222222,
              "#7201a8"
             ],
             [
              0.3333333333333333,
              "#9c179e"
             ],
             [
              0.4444444444444444,
              "#bd3786"
             ],
             [
              0.5555555555555556,
              "#d8576b"
             ],
             [
              0.6666666666666666,
              "#ed7953"
             ],
             [
              0.7777777777777778,
              "#fb9f3a"
             ],
             [
              0.8888888888888888,
              "#fdca26"
             ],
             [
              1,
              "#f0f921"
             ]
            ],
            "type": "histogram2d"
           }
          ],
          "histogram2dcontour": [
           {
            "colorbar": {
             "outlinewidth": 0,
             "ticks": ""
            },
            "colorscale": [
             [
              0,
              "#0d0887"
             ],
             [
              0.1111111111111111,
              "#46039f"
             ],
             [
              0.2222222222222222,
              "#7201a8"
             ],
             [
              0.3333333333333333,
              "#9c179e"
             ],
             [
              0.4444444444444444,
              "#bd3786"
             ],
             [
              0.5555555555555556,
              "#d8576b"
             ],
             [
              0.6666666666666666,
              "#ed7953"
             ],
             [
              0.7777777777777778,
              "#fb9f3a"
             ],
             [
              0.8888888888888888,
              "#fdca26"
             ],
             [
              1,
              "#f0f921"
             ]
            ],
            "type": "histogram2dcontour"
           }
          ],
          "mesh3d": [
           {
            "colorbar": {
             "outlinewidth": 0,
             "ticks": ""
            },
            "type": "mesh3d"
           }
          ],
          "parcoords": [
           {
            "line": {
             "colorbar": {
              "outlinewidth": 0,
              "ticks": ""
             }
            },
            "type": "parcoords"
           }
          ],
          "pie": [
           {
            "automargin": true,
            "type": "pie"
           }
          ],
          "scatter": [
           {
            "fillpattern": {
             "fillmode": "overlay",
             "size": 10,
             "solidity": 0.2
            },
            "type": "scatter"
           }
          ],
          "scatter3d": [
           {
            "line": {
             "colorbar": {
              "outlinewidth": 0,
              "ticks": ""
             }
            },
            "marker": {
             "colorbar": {
              "outlinewidth": 0,
              "ticks": ""
             }
            },
            "type": "scatter3d"
           }
          ],
          "scattercarpet": [
           {
            "marker": {
             "colorbar": {
              "outlinewidth": 0,
              "ticks": ""
             }
            },
            "type": "scattercarpet"
           }
          ],
          "scattergeo": [
           {
            "marker": {
             "colorbar": {
              "outlinewidth": 0,
              "ticks": ""
             }
            },
            "type": "scattergeo"
           }
          ],
          "scattergl": [
           {
            "marker": {
             "colorbar": {
              "outlinewidth": 0,
              "ticks": ""
             }
            },
            "type": "scattergl"
           }
          ],
          "scattermapbox": [
           {
            "marker": {
             "colorbar": {
              "outlinewidth": 0,
              "ticks": ""
             }
            },
            "type": "scattermapbox"
           }
          ],
          "scatterpolar": [
           {
            "marker": {
             "colorbar": {
              "outlinewidth": 0,
              "ticks": ""
             }
            },
            "type": "scatterpolar"
           }
          ],
          "scatterpolargl": [
           {
            "marker": {
             "colorbar": {
              "outlinewidth": 0,
              "ticks": ""
             }
            },
            "type": "scatterpolargl"
           }
          ],
          "scatterternary": [
           {
            "marker": {
             "colorbar": {
              "outlinewidth": 0,
              "ticks": ""
             }
            },
            "type": "scatterternary"
           }
          ],
          "surface": [
           {
            "colorbar": {
             "outlinewidth": 0,
             "ticks": ""
            },
            "colorscale": [
             [
              0,
              "#0d0887"
             ],
             [
              0.1111111111111111,
              "#46039f"
             ],
             [
              0.2222222222222222,
              "#7201a8"
             ],
             [
              0.3333333333333333,
              "#9c179e"
             ],
             [
              0.4444444444444444,
              "#bd3786"
             ],
             [
              0.5555555555555556,
              "#d8576b"
             ],
             [
              0.6666666666666666,
              "#ed7953"
             ],
             [
              0.7777777777777778,
              "#fb9f3a"
             ],
             [
              0.8888888888888888,
              "#fdca26"
             ],
             [
              1,
              "#f0f921"
             ]
            ],
            "type": "surface"
           }
          ],
          "table": [
           {
            "cells": {
             "fill": {
              "color": "#EBF0F8"
             },
             "line": {
              "color": "white"
             }
            },
            "header": {
             "fill": {
              "color": "#C8D4E3"
             },
             "line": {
              "color": "white"
             }
            },
            "type": "table"
           }
          ]
         },
         "layout": {
          "annotationdefaults": {
           "arrowcolor": "#2a3f5f",
           "arrowhead": 0,
           "arrowwidth": 1
          },
          "autotypenumbers": "strict",
          "coloraxis": {
           "colorbar": {
            "outlinewidth": 0,
            "ticks": ""
           }
          },
          "colorscale": {
           "diverging": [
            [
             0,
             "#8e0152"
            ],
            [
             0.1,
             "#c51b7d"
            ],
            [
             0.2,
             "#de77ae"
            ],
            [
             0.3,
             "#f1b6da"
            ],
            [
             0.4,
             "#fde0ef"
            ],
            [
             0.5,
             "#f7f7f7"
            ],
            [
             0.6,
             "#e6f5d0"
            ],
            [
             0.7,
             "#b8e186"
            ],
            [
             0.8,
             "#7fbc41"
            ],
            [
             0.9,
             "#4d9221"
            ],
            [
             1,
             "#276419"
            ]
           ],
           "sequential": [
            [
             0,
             "#0d0887"
            ],
            [
             0.1111111111111111,
             "#46039f"
            ],
            [
             0.2222222222222222,
             "#7201a8"
            ],
            [
             0.3333333333333333,
             "#9c179e"
            ],
            [
             0.4444444444444444,
             "#bd3786"
            ],
            [
             0.5555555555555556,
             "#d8576b"
            ],
            [
             0.6666666666666666,
             "#ed7953"
            ],
            [
             0.7777777777777778,
             "#fb9f3a"
            ],
            [
             0.8888888888888888,
             "#fdca26"
            ],
            [
             1,
             "#f0f921"
            ]
           ],
           "sequentialminus": [
            [
             0,
             "#0d0887"
            ],
            [
             0.1111111111111111,
             "#46039f"
            ],
            [
             0.2222222222222222,
             "#7201a8"
            ],
            [
             0.3333333333333333,
             "#9c179e"
            ],
            [
             0.4444444444444444,
             "#bd3786"
            ],
            [
             0.5555555555555556,
             "#d8576b"
            ],
            [
             0.6666666666666666,
             "#ed7953"
            ],
            [
             0.7777777777777778,
             "#fb9f3a"
            ],
            [
             0.8888888888888888,
             "#fdca26"
            ],
            [
             1,
             "#f0f921"
            ]
           ]
          },
          "colorway": [
           "#636efa",
           "#EF553B",
           "#00cc96",
           "#ab63fa",
           "#FFA15A",
           "#19d3f3",
           "#FF6692",
           "#B6E880",
           "#FF97FF",
           "#FECB52"
          ],
          "font": {
           "color": "#2a3f5f"
          },
          "geo": {
           "bgcolor": "white",
           "lakecolor": "white",
           "landcolor": "#E5ECF6",
           "showlakes": true,
           "showland": true,
           "subunitcolor": "white"
          },
          "hoverlabel": {
           "align": "left"
          },
          "hovermode": "closest",
          "mapbox": {
           "style": "light"
          },
          "paper_bgcolor": "white",
          "plot_bgcolor": "#E5ECF6",
          "polar": {
           "angularaxis": {
            "gridcolor": "white",
            "linecolor": "white",
            "ticks": ""
           },
           "bgcolor": "#E5ECF6",
           "radialaxis": {
            "gridcolor": "white",
            "linecolor": "white",
            "ticks": ""
           }
          },
          "scene": {
           "xaxis": {
            "backgroundcolor": "#E5ECF6",
            "gridcolor": "white",
            "gridwidth": 2,
            "linecolor": "white",
            "showbackground": true,
            "ticks": "",
            "zerolinecolor": "white"
           },
           "yaxis": {
            "backgroundcolor": "#E5ECF6",
            "gridcolor": "white",
            "gridwidth": 2,
            "linecolor": "white",
            "showbackground": true,
            "ticks": "",
            "zerolinecolor": "white"
           },
           "zaxis": {
            "backgroundcolor": "#E5ECF6",
            "gridcolor": "white",
            "gridwidth": 2,
            "linecolor": "white",
            "showbackground": true,
            "ticks": "",
            "zerolinecolor": "white"
           }
          },
          "shapedefaults": {
           "line": {
            "color": "#2a3f5f"
           }
          },
          "ternary": {
           "aaxis": {
            "gridcolor": "white",
            "linecolor": "white",
            "ticks": ""
           },
           "baxis": {
            "gridcolor": "white",
            "linecolor": "white",
            "ticks": ""
           },
           "bgcolor": "#E5ECF6",
           "caxis": {
            "gridcolor": "white",
            "linecolor": "white",
            "ticks": ""
           }
          },
          "title": {
           "x": 0.05
          },
          "xaxis": {
           "automargin": true,
           "gridcolor": "white",
           "linecolor": "white",
           "ticks": "",
           "title": {
            "standoff": 15
           },
           "zerolinecolor": "white",
           "zerolinewidth": 2
          },
          "yaxis": {
           "automargin": true,
           "gridcolor": "white",
           "linecolor": "white",
           "ticks": "",
           "title": {
            "standoff": 15
           },
           "zerolinecolor": "white",
           "zerolinewidth": 2
          }
         }
        },
        "title": {
         "text": "Anomalies detected in Washing Machine"
        }
       }
      },
      "text/html": [
       "<div>                        <script type=\"text/javascript\">window.PlotlyConfig = {MathJaxConfig: 'local'};</script>\n",
       "        <script charset=\"utf-8\" src=\"https://cdn.plot.ly/plotly-2.27.0.min.js\"></script>                <div id=\"e0028012-7b6b-41bb-9661-6e1ba2f58fd4\" class=\"plotly-graph-div\" style=\"height:100%; width:100%;\"></div>            <script type=\"text/javascript\">                                    window.PLOTLYENV=window.PLOTLYENV || {};                                    if (document.getElementById(\"e0028012-7b6b-41bb-9661-6e1ba2f58fd4\")) {                    Plotly.newPlot(                        \"e0028012-7b6b-41bb-9661-6e1ba2f58fd4\",                        [{\"mode\":\"lines\",\"name\":\"lines\",\"x\":[\"2021-01-01T00:00:00\",\"2021-01-02T00:00:00\",\"2021-01-03T00:00:00\",\"2021-01-04T00:00:00\",\"2021-01-05T00:00:00\",\"2021-01-06T00:00:00\",\"2021-01-07T00:00:00\",\"2021-01-08T00:00:00\",\"2021-01-09T00:00:00\",\"2021-01-10T00:00:00\",\"2021-01-11T00:00:00\",\"2021-01-14T00:00:00\",\"2021-01-15T00:00:00\",\"2021-01-16T00:00:00\",\"2021-01-17T00:00:00\",\"2021-01-18T00:00:00\",\"2021-01-19T00:00:00\",\"2021-01-20T00:00:00\",\"2021-01-21T00:00:00\",\"2021-01-22T00:00:00\",\"2021-01-23T00:00:00\",\"2021-01-24T00:00:00\",\"2021-01-25T00:00:00\",\"2021-01-26T00:00:00\",\"2021-01-27T00:00:00\",\"2021-01-28T00:00:00\",\"2021-01-29T00:00:00\",\"2021-01-30T00:00:00\",\"2021-01-31T00:00:00\",\"2021-02-01T00:00:00\",\"2021-02-02T00:00:00\",\"2021-02-03T00:00:00\",\"2021-02-04T00:00:00\",\"2021-02-05T00:00:00\",\"2021-02-06T00:00:00\",\"2021-02-07T00:00:00\",\"2021-02-08T00:00:00\",\"2021-02-09T00:00:00\",\"2021-02-10T00:00:00\",\"2021-02-11T00:00:00\",\"2021-02-13T00:00:00\",\"2021-02-14T00:00:00\",\"2021-02-15T00:00:00\",\"2021-02-16T00:00:00\",\"2021-02-17T00:00:00\",\"2021-02-18T00:00:00\",\"2021-02-19T00:00:00\",\"2021-02-20T00:00:00\",\"2021-02-21T00:00:00\",\"2021-02-22T00:00:00\",\"2021-02-23T00:00:00\",\"2021-02-24T00:00:00\",\"2021-02-25T00:00:00\",\"2021-02-26T00:00:00\",\"2021-02-27T00:00:00\",\"2021-02-28T00:00:00\",\"2021-03-01T00:00:00\",\"2021-03-02T00:00:00\",\"2021-03-03T00:00:00\",\"2021-03-04T00:00:00\",\"2021-03-05T00:00:00\",\"2021-03-06T00:00:00\",\"2021-03-07T00:00:00\",\"2021-03-08T00:00:00\",\"2021-03-09T00:00:00\",\"2021-03-10T00:00:00\",\"2021-03-11T00:00:00\",\"2021-03-13T00:00:00\",\"2021-03-14T00:00:00\",\"2021-03-15T00:00:00\",\"2021-03-16T00:00:00\",\"2021-03-17T00:00:00\",\"2021-03-18T00:00:00\",\"2021-03-19T00:00:00\",\"2021-03-20T00:00:00\",\"2021-03-21T00:00:00\",\"2021-03-22T00:00:00\",\"2021-03-23T00:00:00\",\"2021-03-24T00:00:00\",\"2021-03-25T00:00:00\",\"2021-03-26T00:00:00\",\"2021-03-27T00:00:00\",\"2021-03-28T00:00:00\",\"2021-03-29T00:00:00\",\"2021-03-30T00:00:00\",\"2021-03-31T00:00:00\",\"2021-04-01T00:00:00\",\"2021-04-02T00:00:00\",\"2021-04-03T00:00:00\",\"2021-04-04T00:00:00\",\"2021-04-05T00:00:00\",\"2021-04-06T00:00:00\",\"2021-04-07T00:00:00\",\"2021-04-08T00:00:00\",\"2021-04-09T00:00:00\",\"2021-04-10T00:00:00\",\"2021-04-11T00:00:00\",\"2021-04-13T00:00:00\",\"2021-04-14T00:00:00\",\"2021-04-15T00:00:00\",\"2021-04-16T00:00:00\",\"2021-04-17T00:00:00\",\"2021-04-18T00:00:00\",\"2021-04-19T00:00:00\",\"2021-04-20T00:00:00\",\"2021-04-21T00:00:00\",\"2021-04-22T00:00:00\",\"2021-04-23T00:00:00\",\"2021-04-24T00:00:00\",\"2021-04-25T00:00:00\",\"2021-04-26T00:00:00\",\"2021-04-27T00:00:00\",\"2021-04-28T00:00:00\",\"2021-04-29T00:00:00\",\"2021-04-30T00:00:00\",\"2021-05-01T00:00:00\",\"2021-05-02T00:00:00\",\"2021-05-03T00:00:00\",\"2021-05-04T00:00:00\",\"2021-05-05T00:00:00\",\"2021-05-06T00:00:00\",\"2021-05-07T00:00:00\",\"2021-05-08T00:00:00\",\"2021-05-09T00:00:00\",\"2021-05-10T00:00:00\",\"2021-05-11T00:00:00\",\"2021-05-13T00:00:00\",\"2021-05-14T00:00:00\",\"2021-05-15T00:00:00\",\"2021-05-16T00:00:00\",\"2021-05-17T00:00:00\",\"2021-05-18T00:00:00\",\"2021-05-19T00:00:00\",\"2021-05-20T00:00:00\",\"2021-05-21T00:00:00\",\"2021-05-22T00:00:00\",\"2021-05-23T00:00:00\",\"2021-05-24T00:00:00\",\"2021-05-25T00:00:00\",\"2021-05-26T00:00:00\",\"2021-05-27T00:00:00\",\"2021-05-28T00:00:00\",\"2021-05-29T00:00:00\",\"2021-05-30T00:00:00\",\"2021-05-31T00:00:00\",\"2021-06-01T00:00:00\",\"2021-06-02T00:00:00\",\"2021-06-03T00:00:00\",\"2021-06-04T00:00:00\",\"2021-06-05T00:00:00\",\"2021-06-06T00:00:00\",\"2021-06-07T00:00:00\",\"2021-06-08T00:00:00\",\"2021-06-09T00:00:00\",\"2021-06-10T00:00:00\",\"2021-06-11T00:00:00\",\"2021-06-13T00:00:00\",\"2021-06-14T00:00:00\",\"2021-06-15T00:00:00\",\"2021-06-16T00:00:00\",\"2021-06-17T00:00:00\",\"2021-06-18T00:00:00\",\"2021-06-19T00:00:00\",\"2021-06-20T00:00:00\",\"2021-06-21T00:00:00\",\"2021-06-22T00:00:00\",\"2021-06-23T00:00:00\",\"2021-06-24T00:00:00\",\"2021-06-25T00:00:00\",\"2021-06-26T00:00:00\",\"2021-06-27T00:00:00\",\"2021-06-28T00:00:00\",\"2021-06-29T00:00:00\",\"2021-06-30T00:00:00\",\"2021-07-01T00:00:00\",\"2021-07-02T00:00:00\",\"2021-07-03T00:00:00\",\"2021-07-04T00:00:00\",\"2021-07-05T00:00:00\",\"2021-07-06T00:00:00\",\"2021-07-07T00:00:00\",\"2021-07-08T00:00:00\",\"2021-07-09T00:00:00\",\"2021-07-10T00:00:00\",\"2021-07-11T00:00:00\",\"2021-07-13T00:00:00\",\"2021-07-14T00:00:00\",\"2021-07-15T00:00:00\",\"2021-07-16T00:00:00\",\"2021-07-17T00:00:00\",\"2021-07-18T00:00:00\",\"2021-07-19T00:00:00\",\"2021-07-20T00:00:00\",\"2021-07-21T00:00:00\",\"2021-07-22T00:00:00\",\"2021-07-23T00:00:00\",\"2021-07-24T00:00:00\",\"2021-07-25T00:00:00\",\"2021-07-26T00:00:00\",\"2021-07-27T00:00:00\",\"2021-07-28T00:00:00\",\"2021-07-29T00:00:00\",\"2021-07-30T00:00:00\"],\"y\":[2304.0,1111.0,1785.0,1780.0,1984.0,970.0,877.0,0.0,1947.0,1752.0,0.0,1890.0,1957.0,2605.0,1992.0,617.0,2044.0,2317.0,894.0,699.0,3154.0,3496.0,1368.0,526.0,2044.0,2032.0,1488.0,3240.0,1715.0,801.0,0.0,0.0,0.0,1858.0,0.0,822.0,0.0,929.0,3972.0,0.0,1838.0,1223.0,3468.0,1945.0,2294.0,965.0,2124.0,3748.0,5905.0,1393.0,0.0,2260.0,0.0,1146.0,3743.0,0.0,3842.0,2234.0,0.0,1778.0,980.0,2916.0,0.0,0.0,940.0,5000.0,1021.0,2848.0,3464.0,778.0,0.0,1136.0,1147.0,0.0,0.0,1670.0,1142.0,2892.0,1075.0,0.0,1078.0,1067.0,1083.0,0.0,1760.0,1067.0,0.0,1074.0,0.0,1097.0,0.0,1695.0,860.0,0.0,2605.0,1709.0,6029.0,1097.0,1132.0,2526.0,2837.0,553.0,1104.0,1230.0,1388.0,0.0,1062.0,0.0,4445.0,0.0,1038.0,0.0,0.0,12.0,2695.0,1785.0,902.0,1108.0,1755.0,2969.0,10932.0,841.0,0.0,1609.0,0.0,0.0,2123.0,1045.0,3347.0,3361.0,1014.0,0.0,2122.0,0.0,1073.0,2278.0,864.0,1875.0,474.0,914.0,932.0,1020.0,4057.0,2405.0,1710.0,1731.0,4324.0,0.0,1154.0,0.0,7609.0,0.0,0.0,3164.0,1016.0,3255.0,4922.0,958.0,0.0,10000.0,20000.0,145.0,100.0,120.0,10000.0,20000.0,120.0,15660.0,10000.0,100.0,20000.0,100.0,20000.0,10000.0,1198.0,2736.0,0.0,1077.0,1053.0,1821.0,879.0,0.0,1929.0,2159.0,1026.0,2273.0,1064.0,1071.0,0.0,0.0,0.0,0.0,9.0,2030.0,0.0,897.0,0.0,0.0,0.0,907.0,801.0,0.0,0.0],\"type\":\"scatter\"},{\"mode\":\"markers\",\"name\":\"lines\",\"x\":[\"2021-01-09T00:00:00\",\"2021-01-30T00:00:00\",\"2021-02-05T00:00:00\",\"2021-02-10T00:00:00\",\"2021-02-15T00:00:00\",\"2021-02-20T00:00:00\",\"2021-02-21T00:00:00\",\"2021-03-10T00:00:00\",\"2021-04-11T00:00:00\",\"2021-04-24T00:00:00\",\"2021-04-30T00:00:00\",\"2021-05-05T00:00:00\",\"2021-05-06T00:00:00\",\"2021-05-29T00:00:00\",\"2021-06-02T00:00:00\",\"2021-06-06T00:00:00\",\"2021-06-16T00:00:00\",\"2021-06-17T00:00:00\",\"2021-06-21T00:00:00\",\"2021-06-22T00:00:00\",\"2021-07-20T00:00:00\",\"2021-07-21T00:00:00\",\"2021-07-27T00:00:00\"],\"y\":[1947.0,3240.0,1858.0,3972.0,3468.0,3748.0,5905.0,5000.0,6029.0,4445.0,2695.0,2969.0,10932.0,4057.0,4324.0,7609.0,10000.0,20000.0,10000.0,20000.0,9.0,2030.0,907.0],\"type\":\"scatter\"}],                        {\"template\":{\"data\":{\"histogram2dcontour\":[{\"type\":\"histogram2dcontour\",\"colorbar\":{\"outlinewidth\":0,\"ticks\":\"\"},\"colorscale\":[[0.0,\"#0d0887\"],[0.1111111111111111,\"#46039f\"],[0.2222222222222222,\"#7201a8\"],[0.3333333333333333,\"#9c179e\"],[0.4444444444444444,\"#bd3786\"],[0.5555555555555556,\"#d8576b\"],[0.6666666666666666,\"#ed7953\"],[0.7777777777777778,\"#fb9f3a\"],[0.8888888888888888,\"#fdca26\"],[1.0,\"#f0f921\"]]}],\"choropleth\":[{\"type\":\"choropleth\",\"colorbar\":{\"outlinewidth\":0,\"ticks\":\"\"}}],\"histogram2d\":[{\"type\":\"histogram2d\",\"colorbar\":{\"outlinewidth\":0,\"ticks\":\"\"},\"colorscale\":[[0.0,\"#0d0887\"],[0.1111111111111111,\"#46039f\"],[0.2222222222222222,\"#7201a8\"],[0.3333333333333333,\"#9c179e\"],[0.4444444444444444,\"#bd3786\"],[0.5555555555555556,\"#d8576b\"],[0.6666666666666666,\"#ed7953\"],[0.7777777777777778,\"#fb9f3a\"],[0.8888888888888888,\"#fdca26\"],[1.0,\"#f0f921\"]]}],\"heatmap\":[{\"type\":\"heatmap\",\"colorbar\":{\"outlinewidth\":0,\"ticks\":\"\"},\"colorscale\":[[0.0,\"#0d0887\"],[0.1111111111111111,\"#46039f\"],[0.2222222222222222,\"#7201a8\"],[0.3333333333333333,\"#9c179e\"],[0.4444444444444444,\"#bd3786\"],[0.5555555555555556,\"#d8576b\"],[0.6666666666666666,\"#ed7953\"],[0.7777777777777778,\"#fb9f3a\"],[0.8888888888888888,\"#fdca26\"],[1.0,\"#f0f921\"]]}],\"heatmapgl\":[{\"type\":\"heatmapgl\",\"colorbar\":{\"outlinewidth\":0,\"ticks\":\"\"},\"colorscale\":[[0.0,\"#0d0887\"],[0.1111111111111111,\"#46039f\"],[0.2222222222222222,\"#7201a8\"],[0.3333333333333333,\"#9c179e\"],[0.4444444444444444,\"#bd3786\"],[0.5555555555555556,\"#d8576b\"],[0.6666666666666666,\"#ed7953\"],[0.7777777777777778,\"#fb9f3a\"],[0.8888888888888888,\"#fdca26\"],[1.0,\"#f0f921\"]]}],\"contourcarpet\":[{\"type\":\"contourcarpet\",\"colorbar\":{\"outlinewidth\":0,\"ticks\":\"\"}}],\"contour\":[{\"type\":\"contour\",\"colorbar\":{\"outlinewidth\":0,\"ticks\":\"\"},\"colorscale\":[[0.0,\"#0d0887\"],[0.1111111111111111,\"#46039f\"],[0.2222222222222222,\"#7201a8\"],[0.3333333333333333,\"#9c179e\"],[0.4444444444444444,\"#bd3786\"],[0.5555555555555556,\"#d8576b\"],[0.6666666666666666,\"#ed7953\"],[0.7777777777777778,\"#fb9f3a\"],[0.8888888888888888,\"#fdca26\"],[1.0,\"#f0f921\"]]}],\"surface\":[{\"type\":\"surface\",\"colorbar\":{\"outlinewidth\":0,\"ticks\":\"\"},\"colorscale\":[[0.0,\"#0d0887\"],[0.1111111111111111,\"#46039f\"],[0.2222222222222222,\"#7201a8\"],[0.3333333333333333,\"#9c179e\"],[0.4444444444444444,\"#bd3786\"],[0.5555555555555556,\"#d8576b\"],[0.6666666666666666,\"#ed7953\"],[0.7777777777777778,\"#fb9f3a\"],[0.8888888888888888,\"#fdca26\"],[1.0,\"#f0f921\"]]}],\"mesh3d\":[{\"type\":\"mesh3d\",\"colorbar\":{\"outlinewidth\":0,\"ticks\":\"\"}}],\"scatter\":[{\"fillpattern\":{\"fillmode\":\"overlay\",\"size\":10,\"solidity\":0.2},\"type\":\"scatter\"}],\"parcoords\":[{\"type\":\"parcoords\",\"line\":{\"colorbar\":{\"outlinewidth\":0,\"ticks\":\"\"}}}],\"scatterpolargl\":[{\"type\":\"scatterpolargl\",\"marker\":{\"colorbar\":{\"outlinewidth\":0,\"ticks\":\"\"}}}],\"bar\":[{\"error_x\":{\"color\":\"#2a3f5f\"},\"error_y\":{\"color\":\"#2a3f5f\"},\"marker\":{\"line\":{\"color\":\"#E5ECF6\",\"width\":0.5},\"pattern\":{\"fillmode\":\"overlay\",\"size\":10,\"solidity\":0.2}},\"type\":\"bar\"}],\"scattergeo\":[{\"type\":\"scattergeo\",\"marker\":{\"colorbar\":{\"outlinewidth\":0,\"ticks\":\"\"}}}],\"scatterpolar\":[{\"type\":\"scatterpolar\",\"marker\":{\"colorbar\":{\"outlinewidth\":0,\"ticks\":\"\"}}}],\"histogram\":[{\"marker\":{\"pattern\":{\"fillmode\":\"overlay\",\"size\":10,\"solidity\":0.2}},\"type\":\"histogram\"}],\"scattergl\":[{\"type\":\"scattergl\",\"marker\":{\"colorbar\":{\"outlinewidth\":0,\"ticks\":\"\"}}}],\"scatter3d\":[{\"type\":\"scatter3d\",\"line\":{\"colorbar\":{\"outlinewidth\":0,\"ticks\":\"\"}},\"marker\":{\"colorbar\":{\"outlinewidth\":0,\"ticks\":\"\"}}}],\"scattermapbox\":[{\"type\":\"scattermapbox\",\"marker\":{\"colorbar\":{\"outlinewidth\":0,\"ticks\":\"\"}}}],\"scatterternary\":[{\"type\":\"scatterternary\",\"marker\":{\"colorbar\":{\"outlinewidth\":0,\"ticks\":\"\"}}}],\"scattercarpet\":[{\"type\":\"scattercarpet\",\"marker\":{\"colorbar\":{\"outlinewidth\":0,\"ticks\":\"\"}}}],\"carpet\":[{\"aaxis\":{\"endlinecolor\":\"#2a3f5f\",\"gridcolor\":\"white\",\"linecolor\":\"white\",\"minorgridcolor\":\"white\",\"startlinecolor\":\"#2a3f5f\"},\"baxis\":{\"endlinecolor\":\"#2a3f5f\",\"gridcolor\":\"white\",\"linecolor\":\"white\",\"minorgridcolor\":\"white\",\"startlinecolor\":\"#2a3f5f\"},\"type\":\"carpet\"}],\"table\":[{\"cells\":{\"fill\":{\"color\":\"#EBF0F8\"},\"line\":{\"color\":\"white\"}},\"header\":{\"fill\":{\"color\":\"#C8D4E3\"},\"line\":{\"color\":\"white\"}},\"type\":\"table\"}],\"barpolar\":[{\"marker\":{\"line\":{\"color\":\"#E5ECF6\",\"width\":0.5},\"pattern\":{\"fillmode\":\"overlay\",\"size\":10,\"solidity\":0.2}},\"type\":\"barpolar\"}],\"pie\":[{\"automargin\":true,\"type\":\"pie\"}]},\"layout\":{\"autotypenumbers\":\"strict\",\"colorway\":[\"#636efa\",\"#EF553B\",\"#00cc96\",\"#ab63fa\",\"#FFA15A\",\"#19d3f3\",\"#FF6692\",\"#B6E880\",\"#FF97FF\",\"#FECB52\"],\"font\":{\"color\":\"#2a3f5f\"},\"hovermode\":\"closest\",\"hoverlabel\":{\"align\":\"left\"},\"paper_bgcolor\":\"white\",\"plot_bgcolor\":\"#E5ECF6\",\"polar\":{\"bgcolor\":\"#E5ECF6\",\"angularaxis\":{\"gridcolor\":\"white\",\"linecolor\":\"white\",\"ticks\":\"\"},\"radialaxis\":{\"gridcolor\":\"white\",\"linecolor\":\"white\",\"ticks\":\"\"}},\"ternary\":{\"bgcolor\":\"#E5ECF6\",\"aaxis\":{\"gridcolor\":\"white\",\"linecolor\":\"white\",\"ticks\":\"\"},\"baxis\":{\"gridcolor\":\"white\",\"linecolor\":\"white\",\"ticks\":\"\"},\"caxis\":{\"gridcolor\":\"white\",\"linecolor\":\"white\",\"ticks\":\"\"}},\"coloraxis\":{\"colorbar\":{\"outlinewidth\":0,\"ticks\":\"\"}},\"colorscale\":{\"sequential\":[[0.0,\"#0d0887\"],[0.1111111111111111,\"#46039f\"],[0.2222222222222222,\"#7201a8\"],[0.3333333333333333,\"#9c179e\"],[0.4444444444444444,\"#bd3786\"],[0.5555555555555556,\"#d8576b\"],[0.6666666666666666,\"#ed7953\"],[0.7777777777777778,\"#fb9f3a\"],[0.8888888888888888,\"#fdca26\"],[1.0,\"#f0f921\"]],\"sequentialminus\":[[0.0,\"#0d0887\"],[0.1111111111111111,\"#46039f\"],[0.2222222222222222,\"#7201a8\"],[0.3333333333333333,\"#9c179e\"],[0.4444444444444444,\"#bd3786\"],[0.5555555555555556,\"#d8576b\"],[0.6666666666666666,\"#ed7953\"],[0.7777777777777778,\"#fb9f3a\"],[0.8888888888888888,\"#fdca26\"],[1.0,\"#f0f921\"]],\"diverging\":[[0,\"#8e0152\"],[0.1,\"#c51b7d\"],[0.2,\"#de77ae\"],[0.3,\"#f1b6da\"],[0.4,\"#fde0ef\"],[0.5,\"#f7f7f7\"],[0.6,\"#e6f5d0\"],[0.7,\"#b8e186\"],[0.8,\"#7fbc41\"],[0.9,\"#4d9221\"],[1,\"#276419\"]]},\"xaxis\":{\"gridcolor\":\"white\",\"linecolor\":\"white\",\"ticks\":\"\",\"title\":{\"standoff\":15},\"zerolinecolor\":\"white\",\"automargin\":true,\"zerolinewidth\":2},\"yaxis\":{\"gridcolor\":\"white\",\"linecolor\":\"white\",\"ticks\":\"\",\"title\":{\"standoff\":15},\"zerolinecolor\":\"white\",\"automargin\":true,\"zerolinewidth\":2},\"scene\":{\"xaxis\":{\"backgroundcolor\":\"#E5ECF6\",\"gridcolor\":\"white\",\"linecolor\":\"white\",\"showbackground\":true,\"ticks\":\"\",\"zerolinecolor\":\"white\",\"gridwidth\":2},\"yaxis\":{\"backgroundcolor\":\"#E5ECF6\",\"gridcolor\":\"white\",\"linecolor\":\"white\",\"showbackground\":true,\"ticks\":\"\",\"zerolinecolor\":\"white\",\"gridwidth\":2},\"zaxis\":{\"backgroundcolor\":\"#E5ECF6\",\"gridcolor\":\"white\",\"linecolor\":\"white\",\"showbackground\":true,\"ticks\":\"\",\"zerolinecolor\":\"white\",\"gridwidth\":2}},\"shapedefaults\":{\"line\":{\"color\":\"#2a3f5f\"}},\"annotationdefaults\":{\"arrowcolor\":\"#2a3f5f\",\"arrowhead\":0,\"arrowwidth\":1},\"geo\":{\"bgcolor\":\"white\",\"landcolor\":\"#E5ECF6\",\"subunitcolor\":\"white\",\"showland\":true,\"showlakes\":true,\"lakecolor\":\"white\"},\"title\":{\"x\":0.05},\"mapbox\":{\"style\":\"light\"}}},\"title\":{\"text\":\"Anomalies detected in Washing Machine\"}},                        {\"responsive\": true}                    )                };                            </script>        </div>"
      ],
      "text/plain": [
       "Figure({\n",
       "    'data': [{'mode': 'lines',\n",
       "              'name': 'lines',\n",
       "              'type': 'scatter',\n",
       "              'x': array([datetime.datetime(2021, 1, 1, 0, 0),\n",
       "                          datetime.datetime(2021, 1, 2, 0, 0),\n",
       "                          datetime.datetime(2021, 1, 3, 0, 0), ...,\n",
       "                          datetime.datetime(2021, 7, 28, 0, 0),\n",
       "                          datetime.datetime(2021, 7, 29, 0, 0),\n",
       "                          datetime.datetime(2021, 7, 30, 0, 0)], dtype=object),\n",
       "              'y': array([2304., 1111., 1785., ...,  801.,    0.,    0.])},\n",
       "             {'mode': 'markers',\n",
       "              'name': 'lines',\n",
       "              'type': 'scatter',\n",
       "              'x': array([datetime.datetime(2021, 1, 9, 0, 0),\n",
       "                          datetime.datetime(2021, 1, 30, 0, 0),\n",
       "                          datetime.datetime(2021, 2, 5, 0, 0),\n",
       "                          datetime.datetime(2021, 2, 10, 0, 0),\n",
       "                          datetime.datetime(2021, 2, 15, 0, 0),\n",
       "                          datetime.datetime(2021, 2, 20, 0, 0),\n",
       "                          datetime.datetime(2021, 2, 21, 0, 0),\n",
       "                          datetime.datetime(2021, 3, 10, 0, 0),\n",
       "                          datetime.datetime(2021, 4, 11, 0, 0),\n",
       "                          datetime.datetime(2021, 4, 24, 0, 0),\n",
       "                          datetime.datetime(2021, 4, 30, 0, 0),\n",
       "                          datetime.datetime(2021, 5, 5, 0, 0),\n",
       "                          datetime.datetime(2021, 5, 6, 0, 0),\n",
       "                          datetime.datetime(2021, 5, 29, 0, 0),\n",
       "                          datetime.datetime(2021, 6, 2, 0, 0),\n",
       "                          datetime.datetime(2021, 6, 6, 0, 0),\n",
       "                          datetime.datetime(2021, 6, 16, 0, 0),\n",
       "                          datetime.datetime(2021, 6, 17, 0, 0),\n",
       "                          datetime.datetime(2021, 6, 21, 0, 0),\n",
       "                          datetime.datetime(2021, 6, 22, 0, 0),\n",
       "                          datetime.datetime(2021, 7, 20, 0, 0),\n",
       "                          datetime.datetime(2021, 7, 21, 0, 0),\n",
       "                          datetime.datetime(2021, 7, 27, 0, 0)], dtype=object),\n",
       "              'y': array([1.9470e+03, 3.2400e+03, 1.8580e+03, 3.9720e+03, 3.4680e+03, 3.7480e+03,\n",
       "                          5.9050e+03, 5.0000e+03, 6.0290e+03, 4.4450e+03, 2.6950e+03, 2.9690e+03,\n",
       "                          1.0932e+04, 4.0570e+03, 4.3240e+03, 7.6090e+03, 1.0000e+04, 2.0000e+04,\n",
       "                          1.0000e+04, 2.0000e+04, 9.0000e+00, 2.0300e+03, 9.0700e+02])}],\n",
       "    'layout': {'template': '...', 'title': {'text': 'Anomalies detected in Washing Machine'}}\n",
       "})"
      ]
     },
     "execution_count": 21,
     "metadata": {},
     "output_type": "execute_result"
    }
   ],
   "source": [
    "import plotly.graph_objects as go\n",
    "\n",
    "fig = go.Figure()\n",
    "df_anoms = df1[df1['wm_zscore'] > 3]\n",
    "fig.add_trace(go.Scatter(x=df1['Date'], y=df1['Washing Machine'],\n",
    "                    mode='lines',\n",
    "                    name='lines'))\n",
    "fig.add_trace(go.Scatter(x=df_anoms['Date'], y=df_anoms['Washing Machine'],\n",
    "                    mode='markers',\n",
    "                    name='lines'))\n",
    "fig.update_layout(title='Anomalies detected in Washing Machine')"
   ]
  },
  {
   "cell_type": "code",
   "execution_count": null,
   "id": "f1d4855c",
   "metadata": {},
   "outputs": [],
   "source": []
  },
  {
   "cell_type": "code",
   "execution_count": 22,
   "id": "10e89d69",
   "metadata": {},
   "outputs": [
    {
     "name": "stdout",
     "output_type": "stream",
     "text": [
      "Email sent successfully for Date: 2021-07-27\n"
     ]
    }
   ],
   "source": [
    "import smtplib, ssl\n",
    "from smtplib import SMTPException\n",
    "from pathlib import Path\n",
    "from email.mime.multipart import MIMEMultipart\n",
    "from email.mime.base import MIMEBase\n",
    "from email.mime.text import MIMEText\n",
    "from email.utils import COMMASPACE, formatdate\n",
    "from email import encoders\n",
    "import plotly\n",
    "import datetime\n",
    "import plotly.graph_objects as go\n",
    "import plotly.offline as py\n",
    "import kaleido\n",
    "\n",
    "df_anoms_fridge = df1[df1['fridge_zscore'] > 3]\n",
    "df_anoms_kap = df1[df1['kap_zscore'] > 3]\n",
    "df_anoms_ac = df1[df1['ac_zscore'] > 3]\n",
    "df_anoms_oap = df1[df1['oap_zscore'] > 3]\n",
    "df_anoms_wm = df1[df1['wm_zscore'] > 3]\n",
    "\n",
    "for i in df_anoms_wm['Date']:\n",
    "    fig = go.Figure()\n",
    "    df_anoms_temp = df_anoms_wm[df_anoms_wm['Date'] == i]\n",
    "    df_anoms_temp.reset_index(drop=True, inplace=True)\n",
    "    df_all_temp = df1[df1['Date'] <= i + datetime.timedelta(days=1)]\n",
    "    df_all_temp.reset_index(drop=True, inplace=True)\n",
    "    fig.add_trace(go.Scatter(x=df_all_temp['Date'], y=df_all_temp['Washing Machine'],\n",
    "                        mode='lines',\n",
    "                        name='Actual Consumption'))\n",
    "    fig.add_trace(go.Scatter(x=df_anoms_temp['Date'], y=df_anoms_temp['Washing Machine'],\n",
    "                        mode='markers',\n",
    "                        name='High Fluctuations'))\n",
    "    fig.update_traces(marker=dict(size=5, \n",
    "                                  line=dict(width=5,\n",
    "                                            color='red')))\n",
    "    i = str(i)\n",
    "    i = i[:-9]\n",
    "    # Save figure as PNG using Kaleido\n",
    "fig.write_image('output_file'+i+'.png', engine='kaleido')\n",
    "\n",
    "SUBJECT = \"Possible Detection of Faulty Device - Dated:\" + i\n",
    "\n",
    "msg = MIMEMultipart()\n",
    "msg['Subject'] = SUBJECT \n",
    "msg['From'] = 'ajay3932kamble@gmail.com'\n",
    "msg['To'] = 'ajay3932kamble@gmail.com'\n",
    "\n",
    "body = \"Mahavitaran has detected a possible faulty device. This can cause a power outage/trip/excessive electricity consumption\"\n",
    "\n",
    "msg.attach(MIMEText(body, 'plain'))\n",
    "\n",
    "# Update filename and attachment to PNG\n",
    "filename = 'output_file'+i+'.png'\n",
    "attachment = open('output_file'+i+'.png', \"rb\")\n",
    "\n",
    "part = MIMEBase('application', \"octet-stream\")\n",
    "part.set_payload((attachment).read())\n",
    "encoders.encode_base64(part)\n",
    "\n",
    "part.add_header('Content-Disposition', \"attachment; filename= %s\" % filename)\n",
    "\n",
    "msg.attach(part)\n",
    "context = ssl.create_default_context()\n",
    "server = smtplib.SMTP('smtp.gmail.com', 587)\n",
    "server.ehlo()\n",
    "server.starttls(context=context)\n",
    "server.ehlo()\n",
    "server.login(msg['From'], 'pnyq cpvm tnjl unwz')\n",
    "server.sendmail(msg['From'], msg['To'], msg.as_string())\n",
    "print('Email sent successfully for Date:', i)"
   ]
  },
  {
   "cell_type": "code",
   "execution_count": null,
   "id": "6aa46554",
   "metadata": {},
   "outputs": [],
   "source": []
  }
 ],
 "metadata": {
  "kernelspec": {
   "display_name": "Python 3",
   "language": "python",
   "name": "python3"
  },
  "language_info": {
   "codemirror_mode": {
    "name": "ipython",
    "version": 3
   },
   "file_extension": ".py",
   "mimetype": "text/x-python",
   "name": "python",
   "nbconvert_exporter": "python",
   "pygments_lexer": "ipython3",
   "version": "3.11.5"
  }
 },
 "nbformat": 4,
 "nbformat_minor": 5
}
